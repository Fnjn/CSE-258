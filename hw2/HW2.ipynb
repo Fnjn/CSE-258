{
 "cells": [
  {
   "cell_type": "code",
   "execution_count": 1,
   "metadata": {},
   "outputs": [],
   "source": [
    "import numpy as np\n",
    "import urllib\n",
    "import networkx as nx\n",
    "import matplotlib.pyplot as plt\n",
    "from homework2_starter import *\n",
    "\n",
    "%load_ext autoreload\n",
    "%autoreload 2"
   ]
  },
  {
   "cell_type": "markdown",
   "metadata": {},
   "source": [
    "# Classifier evaluation"
   ]
  },
  {
   "cell_type": "code",
   "execution_count": 2,
   "metadata": {},
   "outputs": [],
   "source": [
    "data = list(parseData(\"http://jmcauley.ucsd.edu/cse190/data/beer/beer_50000.json\"))\n",
    "X = [feature(d) for d in data]\n",
    "y = [d['beer/ABV'] >= 6.5 for d in data]\n",
    "\n",
    "X = np.array(X)\n",
    "y = np.array(y).reshape(-1, 1)"
   ]
  },
  {
   "cell_type": "code",
   "execution_count": 3,
   "metadata": {},
   "outputs": [
    {
     "name": "stdout",
     "output_type": "stream",
     "text": [
      "Validation set accuracy=0.720449\n",
      "Test set accuracy=0.716789\n"
     ]
    }
   ],
   "source": [
    "##################################################\n",
    "# 1                                              #\n",
    "##################################################\n",
    "\n",
    "def split_data(X, Y, val_ratio, test_ratio, shuffle=False):\n",
    "    m = X.shape[0]\n",
    "\n",
    "    m_train = int(m * (1 - val_ratio - test_ratio))\n",
    "    m_val = int(m * val_ratio) + m_train\n",
    "    m_test = int(m * test_ratio) + m_val\n",
    "\n",
    "    if shuffle:\n",
    "        permutation = np.random.permutation(m)\n",
    "        X = X[permutation, :]\n",
    "        Y = Y[permutation, :]\n",
    "\n",
    "    return (X[:m_train, :], Y[:m_train, :], X[m_train:m_val, :],\n",
    "            Y[m_train:m_val, :], X[m_val:m_test, :], Y[m_val:m_test, :])\n",
    "\n",
    "def evaluation(theta, X, y):\n",
    "    scores = [inner(theta,x) for x in X]\n",
    "    predictions = [s > 0 for s in scores]\n",
    "    correct = [(a==b) for (a,b) in zip(predictions,y)]\n",
    "    acc = sum(correct) * 1.0 / len(correct)\n",
    "    return acc\n",
    "\n",
    "X_train, y_train, X_val, y_val, X_test, y_test = split_data(X, y, 1/3, 1/3, True)\n",
    "\n",
    "lam = 1.\n",
    "theta = train(lam, X, X_train, y_train)\n",
    "acc = evaluation(theta, X_val, y_val)\n",
    "print(\"Validation set accuracy=%f\" % acc)\n",
    "acc = evaluation(theta, X_test, y_test)\n",
    "print(\"Test set accuracy=%f\" % acc)"
   ]
  },
  {
   "cell_type": "code",
   "execution_count": 4,
   "metadata": {},
   "outputs": [
    {
     "name": "stdout",
     "output_type": "stream",
     "text": [
      "Positive:12300\tNegative:4366\n",
      "TP:8943\tTN:3003\tFP:3357\t:FN:1363\t\n"
     ]
    }
   ],
   "source": [
    "##################################################\n",
    "# 2                                              #\n",
    "##################################################\n",
    "def confusion_mat(theta, X, y):\n",
    "    scores = [inner(theta,x) for x in X]\n",
    "    predictions = [s > 0 for s in scores]\n",
    "    \n",
    "    tp = 0\n",
    "    fp = 0\n",
    "    fn = 0\n",
    "    tn = 0\n",
    "    \n",
    "    for (a, b) in zip(predictions, y):\n",
    "        if a == b:\n",
    "            if a == True: tp += 1\n",
    "            else: tn += 1\n",
    "        else:\n",
    "            if a == True: fp += 1\n",
    "            else: fn += 1\n",
    "    return tp, fp, fn, tn\n",
    "\n",
    "tp, fp, fn, tn = confusion_mat(theta, X_test, y_test)\n",
    "print('Positive:%d\\tNegative:%d\\nTP:%d\\tTN:%d\\tFP:%d\\t:FN:%d\\t' % \n",
    "      (tp+fp, fn+tn, tp, tn, fp, fn))"
   ]
  },
  {
   "cell_type": "code",
   "execution_count": 5,
   "metadata": {},
   "outputs": [],
   "source": [
    "##################################################\n",
    "# 3                                              #\n",
    "##################################################\n"
   ]
  },
  {
   "cell_type": "code",
   "execution_count": 6,
   "metadata": {},
   "outputs": [
    {
     "name": "stdout",
     "output_type": "stream",
     "text": [
      "Best lambda = 1.000000\n",
      "Train acc=0.719969 \tValidation acc=0.720449 \tTest acc=0.716789\n"
     ]
    }
   ],
   "source": [
    "##################################################\n",
    "# 4                                              #\n",
    "##################################################\n",
    "lambdas = [0, 0.01, 0.1, 1, 100]\n",
    "best_lam = None\n",
    "best_acc = {}\n",
    "\n",
    "for lam in lambdas:\n",
    "    theta = train(lam, X, X_train, y_train)\n",
    "    val_acc = evaluation(theta, X_val, y_val)\n",
    "    if best_lam is None or best_acc['val'] < val_acc:\n",
    "        best_lam = lam\n",
    "        best_acc['train'] = evaluation(theta, X_train, y_train)\n",
    "        best_acc['val'] = val_acc\n",
    "        best_acc['test'] = evaluation(theta, X_test, y_test)\n",
    "\n",
    "print('Best lambda = %f' % best_lam)\n",
    "print('Train acc=%f \\tValidation acc=%f \\tTest acc=%f' % \n",
    "      (best_acc['train'], best_acc['val'], best_acc['test']))\n"
   ]
  },
  {
   "cell_type": "markdown",
   "metadata": {},
   "source": [
    "# Community Detection"
   ]
  },
  {
   "cell_type": "code",
   "execution_count": 7,
   "metadata": {},
   "outputs": [],
   "source": [
    "edges = set()\n",
    "nodes = set()\n",
    "for edge in urllib.request.urlopen(\"http://jmcauley.ucsd.edu/cse255/data/facebook/egonet.txt\"):\n",
    "    x,y = edge.split()\n",
    "    x,y = int(x),int(y)\n",
    "    edges.add((x,y))\n",
    "    edges.add((y,x))\n",
    "    nodes.add(x)\n",
    "    nodes.add(y)"
   ]
  },
  {
   "cell_type": "code",
   "execution_count": 8,
   "metadata": {},
   "outputs": [
    {
     "name": "stdout",
     "output_type": "stream",
     "text": [
      "largest connected component contains 40 nodes\n"
     ]
    }
   ],
   "source": [
    "##################################################\n",
    "# 5                                              #\n",
    "##################################################\n",
    "\n",
    "def dfs(node):\n",
    "    if node in visited:\n",
    "        return\n",
    "    comp.add(node)\n",
    "    visited.add(node)\n",
    "    for edge in edges:\n",
    "        if node == edge[0]:\n",
    "            dfs(edge[1])\n",
    "            \n",
    "visited = set()\n",
    "comps = []\n",
    "comps_len = []\n",
    "\n",
    "for node in nodes:\n",
    "    comp = set()\n",
    "    dfs(node)\n",
    "    if len(comp) > 0:\n",
    "        comps.append(comp)\n",
    "        comps_len.append(len(comp))\n",
    "        \n",
    "print('largest connected component contains %d nodes' % max(comps_len))"
   ]
  },
  {
   "cell_type": "code",
   "execution_count": 9,
   "metadata": {},
   "outputs": [
    {
     "name": "stdout",
     "output_type": "stream",
     "text": [
      "normalized-cut cost of the 50/50 split: 4.600000\n"
     ]
    }
   ],
   "source": [
    "##################################################\n",
    "# 6                                              #\n",
    "##################################################\n",
    "\n",
    "def cut_cost(s1, s2):\n",
    "    cut = 0\n",
    "    for edge in edges:\n",
    "        x, y = edge\n",
    "        if x in s1 and y in s2:\n",
    "            cut += 1\n",
    "            \n",
    "    cost = 0.5 * (cut/len(s1) + cut/len(s2))\n",
    "    return cost\n",
    "\n",
    "comp = comps[comps_len.index(max(comps_len))]\n",
    "comp = list(comp)\n",
    "comp = sorted(comp)\n",
    "s1, s2 = comp[:len(comp)//2], comp[len(comp)//2:]\n",
    "\n",
    "cost = cut_cost(s1, s2)\n",
    "print('normalized-cut cost of the 50/50 split: %f' % cost)"
   ]
  },
  {
   "cell_type": "code",
   "execution_count": 10,
   "metadata": {},
   "outputs": [],
   "source": [
    "##################################################\n",
    "# 7                                              #\n",
    "##################################################\n",
    "\n",
    "def greedy(s1, s2, compute_cost):\n",
    "    node_cost = []\n",
    "    \n",
    "    for node in s1:\n",
    "        t1 = set(s1)\n",
    "        t2 = set(s2)\n",
    "        t1.remove(node)\n",
    "        t2.add(node)\n",
    "        node_cost.append((node, compute_cost(t1, t2)))\n",
    "        \n",
    "    for node in s2:\n",
    "        t1 = set(s1)\n",
    "        t2 = set(s2)\n",
    "        t1.add(node)\n",
    "        t2.remove(node)\n",
    "        node_cost.append((node, compute_cost(t1, t2)))\n",
    "        \n",
    "    return node_cost"
   ]
  },
  {
   "cell_type": "code",
   "execution_count": 11,
   "metadata": {},
   "outputs": [
    {
     "name": "stdout",
     "output_type": "stream",
     "text": [
      "Elements in split 1:\n",
      "{769, 772, 774, 798, 800, 803, 805, 810, 811, 819, 823, 697, 828, 830, 703, 708, 840, 713, 719, 856, 869, 745, 747, 880, 753, 890}\n",
      "Elements in split 2:\n",
      "{864, 804, 876, 893, 878, 882, 884, 888, 886, 729, 825, 889, 861, 863}\n",
      "normalized-cut cost: 0.879121\n"
     ]
    }
   ],
   "source": [
    "comp = comps[comps_len.index(max(comps_len))]\n",
    "comp = list(comp)\n",
    "comp = sorted(comp)\n",
    "s1, s2 = set(comp[:len(comp)//2]), set(comp[len(comp)//2:])\n",
    "\n",
    "cur_cost = cut_cost(s1, s2)\n",
    "\n",
    "while(True):\n",
    "    node_cost = greedy(s1, s2, cut_cost)\n",
    "    node_cost = sorted(node_cost, key=lambda x:(x[1], x[0]))\n",
    "    if node_cost[0][1] >= cur_cost: break\n",
    "    \n",
    "    cur_cost = node_cost[0][1]\n",
    "    node = node_cost[0][0]\n",
    "    if node in s1:\n",
    "        s1.remove(node)\n",
    "        s2.add(node)\n",
    "    else:\n",
    "        s1.add(node)\n",
    "        s2.remove(node)\n",
    "        \n",
    "print('Elements in split 1:\\n' + str(s1))\n",
    "print('Elements in split 2:\\n' + str(s2))\n",
    "print('normalized-cut cost: %f' % cur_cost)"
   ]
  },
  {
   "cell_type": "code",
   "execution_count": 12,
   "metadata": {},
   "outputs": [],
   "source": [
    "##################################################\n",
    "# 8                                              #\n",
    "##################################################\n",
    "\n",
    "def modularity(s):\n",
    "    e = 0\n",
    "    a = 0\n",
    "    for edge in edges:\n",
    "        x, y = edge\n",
    "        if x in s and y in s:\n",
    "            e += 1\n",
    "        if x in s or y in s:\n",
    "            a += 1\n",
    "    e /= len(edges)\n",
    "    a /= len(edges)\n",
    "    \n",
    "    mod = e - a**2\n",
    "    return mod\n",
    "\n",
    "def mod_cost(s1, s2):\n",
    "    t = set(nodes) - s1 - s2\n",
    "    return modularity(s1) + modularity(s2) + modularity(t)"
   ]
  },
  {
   "cell_type": "code",
   "execution_count": 13,
   "metadata": {},
   "outputs": [
    {
     "name": "stdout",
     "output_type": "stream",
     "text": [
      "Elements in split 1:\n",
      "{769, 772, 774, 804, 810, 811, 825, 697, 830, 703, 708, 840, 729, 863, 745, 876, 878, 880, 753, 893}\n",
      "Elements in split 2:\n",
      "{798, 800, 803, 805, 819, 823, 828, 713, 719, 856, 861, 864, 869, 747, 882, 884, 886, 888, 889, 890}\n",
      "modularity: -0.416667\n"
     ]
    }
   ],
   "source": [
    "comp = comps[comps_len.index(max(comps_len))]\n",
    "comp = list(comp)\n",
    "comp = sorted(comp)\n",
    "s1, s2 = set(comp[:len(comp)//2]), set(comp[len(comp)//2:])\n",
    "\n",
    "cur_cost = mod_cost(s1, s2)\n",
    "\n",
    "while(True):\n",
    "    node_cost = greedy(s1, s2, mod_cost)\n",
    "    node_cost = sorted(node_cost, key=lambda x:(x[1], x[0]))\n",
    "    if node_cost[0][1] >= cur_cost: break\n",
    "    \n",
    "    cur_cost = node_cost[0][1]\n",
    "    node = node_cost[0][0]\n",
    "    if node in s1:\n",
    "        s1.remove(node)\n",
    "        s2.add(node)\n",
    "    else:\n",
    "        s1.add(node)\n",
    "        s2.remove(node)\n",
    "        \n",
    "print('Elements in split 1:\\n' + str(s1))\n",
    "print('Elements in split 2:\\n' + str(s2))\n",
    "print('modularity: %f' % cur_cost)"
   ]
  },
  {
   "cell_type": "code",
   "execution_count": null,
   "metadata": {},
   "outputs": [],
   "source": []
  }
 ],
 "metadata": {
  "kernelspec": {
   "display_name": "Python 3",
   "language": "python",
   "name": "python3"
  },
  "language_info": {
   "codemirror_mode": {
    "name": "ipython",
    "version": 3
   },
   "file_extension": ".py",
   "mimetype": "text/x-python",
   "name": "python",
   "nbconvert_exporter": "python",
   "pygments_lexer": "ipython3",
   "version": "3.5.2"
  }
 },
 "nbformat": 4,
 "nbformat_minor": 2
}
