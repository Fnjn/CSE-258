{
 "cells": [
  {
   "cell_type": "code",
   "execution_count": 51,
   "metadata": {},
   "outputs": [],
   "source": [
    "import numpy as np\n",
    "import urllib\n",
    "import networkx as nx\n",
    "import matplotlib.pyplot as plt\n",
    "from homework2_starter import *"
   ]
  },
  {
   "cell_type": "markdown",
   "metadata": {},
   "source": [
    "# Classifier evaluation"
   ]
  },
  {
   "cell_type": "code",
   "execution_count": 11,
   "metadata": {},
   "outputs": [],
   "source": [
    "def split_data(X, Y, val_ratio, test_ratio, shuffle=False):\n",
    "    m = X.shape[0]\n",
    "    \n",
    "    m_train = int(m * (1 - val_ratio - test_ratio))\n",
    "    m_val = int(m * val_ratio) + m_train\n",
    "    m_test = int(m * test_ratio) + m_val\n",
    "    \n",
    "    if shuffle:\n",
    "        permutation = np.random.permutation(m)\n",
    "        X = X[permutation, :]\n",
    "        Y = Y[permutation, :]\n",
    "        \n",
    "    return X[:m_train, :], Y[:m_train, :], X[m_val:, :], Y[m_val:, :], X[m_test:, :], Y[m_test:, :]\n",
    "\n",
    "def evaluation(theta, X, y):\n",
    "    scores = [inner(theta,x) for x in X]\n",
    "    predictions = [s > 0 for s in scores]\n",
    "    correct = [(a==b) for (a,b) in zip(predictions,y)]\n",
    "    acc = sum(correct) * 1.0 / len(correct)\n",
    "    return acc"
   ]
  },
  {
   "cell_type": "code",
   "execution_count": 6,
   "metadata": {},
   "outputs": [],
   "source": [
    "data = list(parseData(\"http://jmcauley.ucsd.edu/cse190/data/beer/beer_50000.json\"))\n",
    "X = [feature(d) for d in data]\n",
    "y = [d['beer/ABV'] >= 6.5 for d in data]\n",
    "\n",
    "X = np.array(X)\n",
    "y = np.array(y).reshape(-1, 1)"
   ]
  },
  {
   "cell_type": "code",
   "execution_count": 8,
   "metadata": {},
   "outputs": [],
   "source": [
    "X_train, y_train, X_val, y_val, X_test, y_test = split_data(X, y, 1/3, 1/3, True)"
   ]
  },
  {
   "cell_type": "code",
   "execution_count": 15,
   "metadata": {},
   "outputs": [
    {
     "name": "stdout",
     "output_type": "stream",
     "text": [
      "Validation set accuracy=0.719642\n",
      "Test set accuracy=0.500000\n"
     ]
    }
   ],
   "source": [
    "lam = 1.\n",
    "theta = train(lam)\n",
    "acc = evaluation(theta, X_val, y_val)\n",
    "print(\"Validation set accuracy=%f\" % acc)\n",
    "acc = evaluation(theta, X_test, y_test)\n",
    "print(\"Test set accuracy=%f\" % acc)"
   ]
  },
  {
   "cell_type": "code",
   "execution_count": 9,
   "metadata": {},
   "outputs": [],
   "source": []
  },
  {
   "cell_type": "code",
   "execution_count": 16,
   "metadata": {},
   "outputs": [
    {
     "name": "stdout",
     "output_type": "stream",
     "text": [
      "Best lambda = 0.000000\n",
      "Train acc=0.719129 \tValidation acc=0.719882 \tTest acc=0.500000\n"
     ]
    }
   ],
   "source": [
    "lambdas = [0, 0.01, 0.1, 1, 100]\n",
    "best_lam = None\n",
    "best_acc = {}\n",
    "\n",
    "for lam in lambdas:\n",
    "    theta = train(lam)\n",
    "    val_acc = evaluation(theta, X_val, y_val)\n",
    "    if best_lam is None or best_acc['val'] < val_acc:\n",
    "        best_lam = lam\n",
    "        best_acc['train'] = evaluation(theta, X_train, y_train)\n",
    "        best_acc['val'] = val_acc\n",
    "        best_acc['test'] = evaluation(theta, X_test, y_test)\n",
    "        \n",
    "print('Best lambda = %f' % best_lam)\n",
    "print('Train acc=%f \\tValidation acc=%f \\tTest acc=%f' % (best_acc['train'], best_acc['val'], best_acc['test']))"
   ]
  },
  {
   "cell_type": "markdown",
   "metadata": {},
   "source": [
    "# Community Detection"
   ]
  },
  {
   "cell_type": "code",
   "execution_count": 16,
   "metadata": {},
   "outputs": [],
   "source": [
    "edges = set()\n",
    "nodes = set()\n",
    "for edge in urllib.request.urlopen(\"http://jmcauley.ucsd.edu/cse255/data/facebook/egonet.txt\"):\n",
    "    x,y = edge.split()\n",
    "    x,y = int(x),int(y)\n",
    "    edges.add((x,y))\n",
    "    edges.add((y,x))\n",
    "    nodes.add(x)\n",
    "    nodes.add(y)"
   ]
  },
  {
   "cell_type": "code",
   "execution_count": 53,
   "metadata": {},
   "outputs": [],
   "source": [
    "G = nx.Graph()\n",
    "for e in edges:\n",
    "    G.add_edge(e[0],e[1])"
   ]
  },
  {
   "cell_type": "code",
   "execution_count": 17,
   "metadata": {},
   "outputs": [],
   "source": [
    "def dfs(node):\n",
    "    if node in visited:\n",
    "        return\n",
    "    comp.add(node)\n",
    "    visited.add(node)\n",
    "    for edge in edges:\n",
    "        if node == edge[0]:\n",
    "            dfs(edge[1])"
   ]
  },
  {
   "cell_type": "code",
   "execution_count": 31,
   "metadata": {},
   "outputs": [
    {
     "name": "stdout",
     "output_type": "stream",
     "text": [
      "largest connected component contains 40 nodes\n"
     ]
    }
   ],
   "source": [
    "visited = set()\n",
    "comps = []\n",
    "comps_len = []\n",
    "\n",
    "for node in nodes:\n",
    "    comp = set()\n",
    "    dfs(node)\n",
    "    if len(comp) > 0:\n",
    "        comps.append(comp)\n",
    "        comps_len.append(len(comp))\n",
    "        \n",
    "print('largest connected component contains %d nodes' % max(comps_len))"
   ]
  },
  {
   "cell_type": "code",
   "execution_count": 39,
   "metadata": {},
   "outputs": [],
   "source": [
    "comp = comps[comps_len.index(max(comps_len))]"
   ]
  },
  {
   "cell_type": "code",
   "execution_count": 50,
   "metadata": {},
   "outputs": [
    {
     "data": {
      "text/plain": [
       "92"
      ]
     },
     "execution_count": 50,
     "metadata": {},
     "output_type": "execute_result"
    }
   ],
   "source": [
    "comp = list(comp)\n",
    "comp = sorted(comp)\n",
    "s1, s2 = comp[:len(comp)//2], comp[len(comp)//2:]\n",
    "\n",
    "cost = 0\n",
    "for edge in edges:\n",
    "    x, y = edge\n",
    "    if x in s1 and y in s2:\n",
    "        cost += 1\n",
    "        \n",
    "cost"
   ]
  },
  {
   "cell_type": "code",
   "execution_count": 58,
   "metadata": {},
   "outputs": [],
   "source": [
    "node_cost = []\n",
    "def greedy(s1, s2):\n",
    "    for node in nodes:\n",
    "        if node not in s1 or node not in s2: continue\n",
    "        t1 = set(s1)\n",
    "        t2 = set(s2)\n",
    "        if node in s1:\n",
    "            t1.remove(node)\n",
    "            t2.add(node)\n",
    "        else:\n",
    "            t1.add(node)\n",
    "            t2.remove(node)\n",
    "            \n",
    "        node_cost.append((node, cut_cost(t1, t2)))\n",
    "            "
   ]
  },
  {
   "cell_type": "code",
   "execution_count": 57,
   "metadata": {},
   "outputs": [],
   "source": [
    "def cut_cost(s1, s2):\n",
    "    pass"
   ]
  },
  {
   "cell_type": "code",
   "execution_count": 59,
   "metadata": {},
   "outputs": [],
   "source": [
    "def modularity():\n",
    "    pass"
   ]
  },
  {
   "cell_type": "code",
   "execution_count": null,
   "metadata": {},
   "outputs": [],
   "source": []
  }
 ],
 "metadata": {
  "kernelspec": {
   "display_name": "Python 3",
   "language": "python",
   "name": "python3"
  }
 },
 "nbformat": 4,
 "nbformat_minor": 2
}
