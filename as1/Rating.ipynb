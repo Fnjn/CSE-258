{
 "cells": [
  {
   "cell_type": "code",
   "execution_count": 1,
   "metadata": {},
   "outputs": [],
   "source": [
    "%load_ext autoreload\n",
    "%autoreload 2\n",
    "import my_baselines"
   ]
  },
  {
   "cell_type": "code",
   "execution_count": 2,
   "metadata": {},
   "outputs": [],
   "source": [
    "with open('train.json') as f:\n",
    "    data = f.readlines()\n",
    "\n",
    "import ast\n",
    "data = [ast.literal_eval(x) for x in data]"
   ]
  },
  {
   "cell_type": "code",
   "execution_count": 3,
   "metadata": {},
   "outputs": [],
   "source": [
    "# data[0]"
   ]
  },
  {
   "cell_type": "code",
   "execution_count": 4,
   "metadata": {},
   "outputs": [],
   "source": [
    "import numpy as np\n",
    "import time\n",
    "\n",
    "class MF():\n",
    "\n",
    "    def __init__(self, R, K, alpha, beta, iterations, all_samples=None):\n",
    "        \"\"\"\n",
    "        Perform matrix factorization to predict empty\n",
    "        entries in a matrix.\n",
    "\n",
    "        Arguments\n",
    "        - R (ndarray)   : user-item rating matrix\n",
    "        - K (int)       : number of latent dimensions\n",
    "        - alpha (float) : learning rate\n",
    "        - beta (float)  : regularization parameter\n",
    "        \"\"\"\n",
    "\n",
    "        self.R = R\n",
    "        self.num_users, self.num_items = R.shape\n",
    "        self.K = K\n",
    "        self.alpha = alpha\n",
    "        self.beta = beta\n",
    "        self.iterations = iterations\n",
    "        self.total_iter = 0\n",
    "        self.training_process = []\n",
    "        \n",
    "        # Create a list of training samples\n",
    "        if all_samples is None:\n",
    "            self.all_samples = [\n",
    "                (i, j, self.R[i, j])\n",
    "                for i in range(self.num_users)\n",
    "                for j in range(self.num_items)\n",
    "                if self.R[i, j] > 0\n",
    "            ]\n",
    "        else:\n",
    "            self.all_samples = all_samples\n",
    "\n",
    "    def train(self):\n",
    "        start_time = time.time()\n",
    "        \n",
    "        # Initialize user and item latent feature matrice\n",
    "        self.P = np.random.normal(scale=1./self.K, size=(self.num_users, self.K))\n",
    "        self.Q = np.random.normal(scale=1./self.K, size=(self.num_items, self.K))\n",
    "\n",
    "        # Initialize the biases\n",
    "        self.b_u = np.zeros(self.num_users)\n",
    "        self.b_i = np.zeros(self.num_items)\n",
    "        self.b = np.mean(self.R[np.where(self.R != 0)])\n",
    "\n",
    "        # Perform stochastic gradient descent for number of iterations\n",
    "        for i in range(self.iterations):\n",
    "            np.random.shuffle(self.all_samples)\n",
    "            self.samples = self.all_samples[:128]\n",
    "            self.sgd()\n",
    "            \n",
    "            if (i+1) % 50 == 0:\n",
    "                mse = self.mse()\n",
    "                self.training_process.append((i, mse))\n",
    "                cur_time = time.time() - start_time\n",
    "                print(\"%dm:%ds Iteration: %d ; error = %.4f\" % (int(cur_time/60), int(cur_time%60) ,i+1, mse))\n",
    "\n",
    "        self.total_iter += self.iterations\n",
    "    \n",
    "    def continue_train(self, iterations):\n",
    "        start_time = time.time()\n",
    "        for i in range(iterations):\n",
    "            np.random.shuffle(self.all_samples)\n",
    "            self.samples = self.all_samples[:128]\n",
    "            self.sgd()\n",
    "            \n",
    "            if (i+1) % 50 == 0:\n",
    "                mse = self.mse()\n",
    "                self.training_process.append((self.total_iter+i, mse))\n",
    "                cur_time = time.time() - start_time\n",
    "                print(\"%dm:%ds Iteration: %d ; error = %.4f\" % (int(cur_time/60), int(cur_time%60), \n",
    "                                                                self.total_iter+i+1, mse))\n",
    "        \n",
    "        self.total_iter += iterations\n",
    "\n",
    "    def mse(self):\n",
    "        \"\"\"\n",
    "        A function to compute the total mean square error\n",
    "        \"\"\"\n",
    "        xs, ys = self.R.nonzero()\n",
    "        predicted = self.full_matrix()\n",
    "        error = 0\n",
    "        for x, y in zip(xs, ys):\n",
    "            error += pow(self.R[x, y] - predicted[x, y], 2)\n",
    "        return np.sqrt(error)\n",
    "\n",
    "    def sgd(self):\n",
    "        \"\"\"\n",
    "        Perform stochastic graident descent\n",
    "        \"\"\"\n",
    "        for i, j, r in self.samples:\n",
    "            # Computer prediction and error\n",
    "            prediction = self.get_rating(i, j)\n",
    "            e = (r - prediction)\n",
    "\n",
    "            # Update biases\n",
    "            self.b_u[i] += self.alpha * (e - self.beta * self.b_u[i])\n",
    "            self.b_i[j] += self.alpha * (e - self.beta * self.b_i[j])\n",
    "\n",
    "            # Update user and item latent feature matrices\n",
    "            self.P[i, :] += self.alpha * (e * self.Q[j, :] - self.beta * self.P[i,:])\n",
    "            self.Q[j, :] += self.alpha * (e * self.P[i, :] - self.beta * self.Q[j,:])\n",
    "\n",
    "    def get_rating(self, i, j):\n",
    "        \"\"\"\n",
    "        Get the predicted rating of user i and item j\n",
    "        \"\"\"\n",
    "        prediction = self.b + self.b_u[i] + self.b_i[j] + self.P[i, :].dot(self.Q[j, :].T)\n",
    "        return prediction\n",
    "\n",
    "    def full_matrix(self):\n",
    "        \"\"\"\n",
    "        Computer the full matrix using the resultant biases, P and Q\n",
    "        \"\"\"\n",
    "        return self.b + self.b_u[:,np.newaxis] + self.b_i[np.newaxis:,] + self.P.dot(self.Q.T)"
   ]
  },
  {
   "cell_type": "code",
   "execution_count": 5,
   "metadata": {},
   "outputs": [],
   "source": [
    "class Mat:\n",
    "    def __init__(self):\n",
    "        self.user2index = {}\n",
    "        self.item2index = {}\n",
    "        self.n_user = 0\n",
    "        self.n_item = 0\n",
    "        \n",
    "        self.user2item = {}\n",
    "        self.item2user = {}\n",
    "        self.all_rating = 0.\n",
    "        self.all_cnt = 0\n",
    "        \n",
    "        self.all_samples = []\n",
    "        \n",
    "    def addEntry(self, entry):\n",
    "        u = entry['reviewerID']\n",
    "        i = entry['itemID']\n",
    "        r = entry['rating']\n",
    "        \n",
    "        self.all_rating += r\n",
    "        self.all_cnt += 1\n",
    "        \n",
    "        if u not in self.user2index:\n",
    "            self.user2index[u] = self.n_user\n",
    "            self.n_user += 1\n",
    "        if i not in self.item2index:\n",
    "            self.item2index[i] = self.n_item\n",
    "            self.n_item += 1\n",
    "            \n",
    "        self.all_samples.append((self.user2index[u], self.item2index[i], r))\n",
    "        \n",
    "        if u not in self.user2item:\n",
    "            self.user2item[u] = [(i,r)]\n",
    "        else:\n",
    "            self.user2item[u].append((i,r))\n",
    "            \n",
    "        if i not in self.item2user:\n",
    "            self.item2user[i] = [(u,r)]\n",
    "        else:\n",
    "            self.item2user[i].append((u,r))\n",
    "    \n",
    "    def addEntries(self, entries):\n",
    "        for e in entries:\n",
    "            self.addEntry(e)\n",
    "        self.all_avg = self.all_rating / self.all_cnt\n",
    "    \n",
    "    def ratingMat(self):\n",
    "        self.R = np.zeros([self.n_user, self.n_item])\n",
    "        for u, value in self.user2item.items():\n",
    "            for v in value:\n",
    "                i, r = v\n",
    "                user_index = self.user2index[u]\n",
    "                item_index = self.item2index[i]\n",
    "                self.R[user_index, item_index] = r\n",
    "                "
   ]
  },
  {
   "cell_type": "code",
   "execution_count": 6,
   "metadata": {},
   "outputs": [],
   "source": [
    "RA = Mat()\n",
    "RA.addEntries(data)\n",
    "RA.ratingMat()"
   ]
  },
  {
   "cell_type": "code",
   "execution_count": 7,
   "metadata": {},
   "outputs": [],
   "source": [
    "mfa = MF(RA.R, K=50, alpha=0.1, beta=0.01, iterations=1200, all_samples=RA.all_samples)"
   ]
  },
  {
   "cell_type": "code",
   "execution_count": 8,
   "metadata": {},
   "outputs": [
    {
     "name": "stdout",
     "output_type": "stream",
     "text": [
      "0m:15s Iteration: 50 ; error = 490.7980\n",
      "0m:27s Iteration: 100 ; error = 486.8199\n",
      "0m:39s Iteration: 150 ; error = 483.0302\n",
      "0m:51s Iteration: 200 ; error = 479.3657\n",
      "1m:3s Iteration: 250 ; error = 476.0416\n",
      "1m:15s Iteration: 300 ; error = 472.7631\n",
      "1m:27s Iteration: 350 ; error = 469.7094\n",
      "1m:39s Iteration: 400 ; error = 466.5976\n",
      "1m:51s Iteration: 450 ; error = 464.1032\n",
      "2m:2s Iteration: 500 ; error = 461.6582\n",
      "2m:14s Iteration: 550 ; error = 459.2103\n",
      "2m:26s Iteration: 600 ; error = 456.6946\n",
      "2m:38s Iteration: 650 ; error = 454.2882\n",
      "2m:50s Iteration: 700 ; error = 452.1412\n",
      "3m:2s Iteration: 750 ; error = 450.0327\n",
      "3m:14s Iteration: 800 ; error = 447.9879\n",
      "3m:26s Iteration: 850 ; error = 445.7256\n",
      "3m:37s Iteration: 900 ; error = 443.6869\n",
      "3m:50s Iteration: 950 ; error = 441.7105\n",
      "4m:2s Iteration: 1000 ; error = 439.4789\n"
     ]
    }
   ],
   "source": [
    "mfa.train()"
   ]
  },
  {
   "cell_type": "code",
   "execution_count": 9,
   "metadata": {},
   "outputs": [],
   "source": [
    "def predict(u, i):\n",
    "    if u not in RA.user2index and i not in RA.item2index:\n",
    "        return RA.all_avg\n",
    "    if u not in RA.user2index:\n",
    "        return sum([r for u,r in RA.item2user[i]]) / len(RA.item2user[i])\n",
    "    if i not in RA.item2index:\n",
    "        return sum([r for u,r in RA.user2item[u]]) / len(RA.user2item[u])\n",
    "    \n",
    "    user_index = RA.user2index[u]\n",
    "    item_index = RA.item2index[i]\n",
    "    r = mfa.get_rating(user_index, item_index)\n",
    "    if r > 5:\n",
    "        r = 5\n",
    "    elif r < 0:\n",
    "        r = 0\n",
    "    return r"
   ]
  },
  {
   "cell_type": "code",
   "execution_count": 10,
   "metadata": {},
   "outputs": [],
   "source": [
    "my_baselines.ratingBaseline(predict)"
   ]
  },
  {
   "cell_type": "code",
   "execution_count": 15,
   "metadata": {},
   "outputs": [],
   "source": [
    "# mfa.alpha = 0.01\n",
    "# mfa.beta = 0.001"
   ]
  },
  {
   "cell_type": "code",
   "execution_count": 16,
   "metadata": {},
   "outputs": [
    {
     "name": "stdout",
     "output_type": "stream",
     "text": [
      "0m:12s Iteration: 1650 ; error = 423.2552\n"
     ]
    },
    {
     "ename": "KeyboardInterrupt",
     "evalue": "",
     "output_type": "error",
     "traceback": [
      "\u001b[0;31m---------------------------------------------------------------------------\u001b[0m",
      "\u001b[0;31mKeyboardInterrupt\u001b[0m                         Traceback (most recent call last)",
      "\u001b[0;32m<ipython-input-16-d0af48a3387a>\u001b[0m in \u001b[0;36m<module>\u001b[0;34m()\u001b[0m\n\u001b[0;32m----> 1\u001b[0;31m \u001b[0mmfa\u001b[0m\u001b[0;34m.\u001b[0m\u001b[0mcontinue_train\u001b[0m\u001b[0;34m(\u001b[0m\u001b[0;36m400\u001b[0m\u001b[0;34m)\u001b[0m\u001b[0;34m\u001b[0m\u001b[0m\n\u001b[0m",
      "\u001b[0;32m<ipython-input-4-4b44aca776b5>\u001b[0m in \u001b[0;36mcontinue_train\u001b[0;34m(self, iterations)\u001b[0m\n\u001b[1;32m     70\u001b[0m \u001b[0;34m\u001b[0m\u001b[0m\n\u001b[1;32m     71\u001b[0m             \u001b[0;32mif\u001b[0m \u001b[0;34m(\u001b[0m\u001b[0mi\u001b[0m\u001b[0;34m+\u001b[0m\u001b[0;36m1\u001b[0m\u001b[0;34m)\u001b[0m \u001b[0;34m%\u001b[0m \u001b[0;36m50\u001b[0m \u001b[0;34m==\u001b[0m \u001b[0;36m0\u001b[0m\u001b[0;34m:\u001b[0m\u001b[0;34m\u001b[0m\u001b[0m\n\u001b[0;32m---> 72\u001b[0;31m                 \u001b[0mmse\u001b[0m \u001b[0;34m=\u001b[0m \u001b[0mself\u001b[0m\u001b[0;34m.\u001b[0m\u001b[0mmse\u001b[0m\u001b[0;34m(\u001b[0m\u001b[0;34m)\u001b[0m\u001b[0;34m\u001b[0m\u001b[0m\n\u001b[0m\u001b[1;32m     73\u001b[0m                 \u001b[0mself\u001b[0m\u001b[0;34m.\u001b[0m\u001b[0mtraining_process\u001b[0m\u001b[0;34m.\u001b[0m\u001b[0mappend\u001b[0m\u001b[0;34m(\u001b[0m\u001b[0;34m(\u001b[0m\u001b[0mself\u001b[0m\u001b[0;34m.\u001b[0m\u001b[0mtotal_iter\u001b[0m\u001b[0;34m+\u001b[0m\u001b[0mi\u001b[0m\u001b[0;34m,\u001b[0m \u001b[0mmse\u001b[0m\u001b[0;34m)\u001b[0m\u001b[0;34m)\u001b[0m\u001b[0;34m\u001b[0m\u001b[0m\n\u001b[1;32m     74\u001b[0m                 \u001b[0mcur_time\u001b[0m \u001b[0;34m=\u001b[0m \u001b[0mtime\u001b[0m\u001b[0;34m.\u001b[0m\u001b[0mtime\u001b[0m\u001b[0;34m(\u001b[0m\u001b[0;34m)\u001b[0m \u001b[0;34m-\u001b[0m \u001b[0mstart_time\u001b[0m\u001b[0;34m\u001b[0m\u001b[0m\n",
      "\u001b[0;32m<ipython-input-4-4b44aca776b5>\u001b[0m in \u001b[0;36mmse\u001b[0;34m(self)\u001b[0m\n\u001b[1;32m     83\u001b[0m         \"\"\"\n\u001b[1;32m     84\u001b[0m         \u001b[0mxs\u001b[0m\u001b[0;34m,\u001b[0m \u001b[0mys\u001b[0m \u001b[0;34m=\u001b[0m \u001b[0mself\u001b[0m\u001b[0;34m.\u001b[0m\u001b[0mR\u001b[0m\u001b[0;34m.\u001b[0m\u001b[0mnonzero\u001b[0m\u001b[0;34m(\u001b[0m\u001b[0;34m)\u001b[0m\u001b[0;34m\u001b[0m\u001b[0m\n\u001b[0;32m---> 85\u001b[0;31m         \u001b[0mpredicted\u001b[0m \u001b[0;34m=\u001b[0m \u001b[0mself\u001b[0m\u001b[0;34m.\u001b[0m\u001b[0mfull_matrix\u001b[0m\u001b[0;34m(\u001b[0m\u001b[0;34m)\u001b[0m\u001b[0;34m\u001b[0m\u001b[0m\n\u001b[0m\u001b[1;32m     86\u001b[0m         \u001b[0merror\u001b[0m \u001b[0;34m=\u001b[0m \u001b[0;36m0\u001b[0m\u001b[0;34m\u001b[0m\u001b[0m\n\u001b[1;32m     87\u001b[0m         \u001b[0;32mfor\u001b[0m \u001b[0mx\u001b[0m\u001b[0;34m,\u001b[0m \u001b[0my\u001b[0m \u001b[0;32min\u001b[0m \u001b[0mzip\u001b[0m\u001b[0;34m(\u001b[0m\u001b[0mxs\u001b[0m\u001b[0;34m,\u001b[0m \u001b[0mys\u001b[0m\u001b[0;34m)\u001b[0m\u001b[0;34m:\u001b[0m\u001b[0;34m\u001b[0m\u001b[0m\n",
      "\u001b[0;32m<ipython-input-4-4b44aca776b5>\u001b[0m in \u001b[0;36mfull_matrix\u001b[0;34m(self)\u001b[0m\n\u001b[1;32m    117\u001b[0m         \u001b[0mComputer\u001b[0m \u001b[0mthe\u001b[0m \u001b[0mfull\u001b[0m \u001b[0mmatrix\u001b[0m \u001b[0musing\u001b[0m \u001b[0mthe\u001b[0m \u001b[0mresultant\u001b[0m \u001b[0mbiases\u001b[0m\u001b[0;34m,\u001b[0m \u001b[0mP\u001b[0m \u001b[0;32mand\u001b[0m \u001b[0mQ\u001b[0m\u001b[0;34m\u001b[0m\u001b[0m\n\u001b[1;32m    118\u001b[0m         \"\"\"\n\u001b[0;32m--> 119\u001b[0;31m         \u001b[0;32mreturn\u001b[0m \u001b[0mself\u001b[0m\u001b[0;34m.\u001b[0m\u001b[0mb\u001b[0m \u001b[0;34m+\u001b[0m \u001b[0mself\u001b[0m\u001b[0;34m.\u001b[0m\u001b[0mb_u\u001b[0m\u001b[0;34m[\u001b[0m\u001b[0;34m:\u001b[0m\u001b[0;34m,\u001b[0m\u001b[0mnp\u001b[0m\u001b[0;34m.\u001b[0m\u001b[0mnewaxis\u001b[0m\u001b[0;34m]\u001b[0m \u001b[0;34m+\u001b[0m \u001b[0mself\u001b[0m\u001b[0;34m.\u001b[0m\u001b[0mb_i\u001b[0m\u001b[0;34m[\u001b[0m\u001b[0mnp\u001b[0m\u001b[0;34m.\u001b[0m\u001b[0mnewaxis\u001b[0m\u001b[0;34m:\u001b[0m\u001b[0;34m,\u001b[0m\u001b[0;34m]\u001b[0m \u001b[0;34m+\u001b[0m \u001b[0mself\u001b[0m\u001b[0;34m.\u001b[0m\u001b[0mP\u001b[0m\u001b[0;34m.\u001b[0m\u001b[0mdot\u001b[0m\u001b[0;34m(\u001b[0m\u001b[0mself\u001b[0m\u001b[0;34m.\u001b[0m\u001b[0mQ\u001b[0m\u001b[0;34m.\u001b[0m\u001b[0mT\u001b[0m\u001b[0;34m)\u001b[0m\u001b[0;34m\u001b[0m\u001b[0m\n\u001b[0m",
      "\u001b[0;31mKeyboardInterrupt\u001b[0m: "
     ]
    }
   ],
   "source": [
    "mfa.continue_train(200)"
   ]
  },
  {
   "cell_type": "code",
   "execution_count": 21,
   "metadata": {},
   "outputs": [],
   "source": [
    "mfa.alpha = 0.001\n",
    "mfa.beta = 0.0001"
   ]
  },
  {
   "cell_type": "code",
   "execution_count": 22,
   "metadata": {},
   "outputs": [
    {
     "name": "stdout",
     "output_type": "stream",
     "text": [
      "0m:23s Iteration: 4050 ; error = 399.9140\n",
      "0m:43s Iteration: 4100 ; error = 399.8937\n",
      "1m:5s Iteration: 4150 ; error = 399.8738\n",
      "1m:24s Iteration: 4200 ; error = 399.8533\n",
      "1m:43s Iteration: 4250 ; error = 399.8335\n",
      "2m:2s Iteration: 4300 ; error = 399.8126\n",
      "2m:21s Iteration: 4350 ; error = 399.7925\n",
      "2m:39s Iteration: 4400 ; error = 399.7705\n",
      "2m:58s Iteration: 4450 ; error = 399.7493\n",
      "3m:17s Iteration: 4500 ; error = 399.7303\n"
     ]
    }
   ],
   "source": [
    "mfa.continue_train(500)"
   ]
  },
  {
   "cell_type": "code",
   "execution_count": 23,
   "metadata": {},
   "outputs": [],
   "source": [
    "my_baselines.ratingBaseline(predict)"
   ]
  },
  {
   "cell_type": "code",
   "execution_count": null,
   "metadata": {},
   "outputs": [],
   "source": []
  }
 ],
 "metadata": {
  "kernelspec": {
   "display_name": "Python 3",
   "language": "python",
   "name": "python3"
  },
  "language_info": {
   "codemirror_mode": {
    "name": "ipython",
    "version": 3
   },
   "file_extension": ".py",
   "mimetype": "text/x-python",
   "name": "python",
   "nbconvert_exporter": "python",
   "pygments_lexer": "ipython3",
   "version": "3.5.2"
  }
 },
 "nbformat": 4,
 "nbformat_minor": 2
}
