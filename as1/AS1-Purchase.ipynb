{
 "cells": [
  {
   "cell_type": "code",
   "execution_count": 1,
   "metadata": {},
   "outputs": [],
   "source": [
    "import numpy as np\n",
    "\n",
    "import torch\n",
    "import torch.nn as nn\n",
    "from torch import optim\n",
    "import torch.nn.functional as F\n",
    "\n",
    "device = torch.device(\"cuda\" if torch.cuda.is_available() else \"cpu\")\n",
    "\n",
    "%load_ext autoreload\n",
    "%autoreload 2\n",
    "import my_baselines\n",
    "import utils"
   ]
  },
  {
   "cell_type": "code",
   "execution_count": 2,
   "metadata": {},
   "outputs": [],
   "source": [
    "with open('train.json') as f:\n",
    "    data = f.readlines()\n",
    "\n",
    "import ast\n",
    "data = [ast.literal_eval(x) for x in data]"
   ]
  },
  {
   "cell_type": "code",
   "execution_count": 3,
   "metadata": {},
   "outputs": [
    {
     "data": {
      "text/plain": [
       "{'categories': [['Clothing, Shoes & Jewelry', 'Women'],\n",
       "  ['Clothing, Shoes & Jewelry',\n",
       "   'Novelty, Costumes & More',\n",
       "   'Novelty',\n",
       "   'Clothing',\n",
       "   'Women',\n",
       "   'Leggings']],\n",
       " 'categoryID': 0,\n",
       " 'helpful': {'nHelpful': 0, 'outOf': 0},\n",
       " 'itemID': 'I402344648',\n",
       " 'rating': 4.0,\n",
       " 'reviewHash': 'R798569390',\n",
       " 'reviewText': \"The model in this picture has them rolled up at the top because they are actually very high waisted! that's my only complaint though, because they are very good quality, and fit really well! I am 5'2&#34; 120lbs with thick thighs and i love them i can't wait to wear them out!\",\n",
       " 'reviewTime': '09 26, 2013',\n",
       " 'reviewerID': 'U490934656',\n",
       " 'summary': 'High Waisted',\n",
       " 'unixReviewTime': 1380153600}"
      ]
     },
     "execution_count": 3,
     "metadata": {},
     "output_type": "execute_result"
    }
   ],
   "source": [
    "data[0]"
   ]
  },
  {
   "cell_type": "code",
   "execution_count": 4,
   "metadata": {},
   "outputs": [],
   "source": [
    "item_popularity = {}\n",
    "user_buy_count = {}\n",
    "item2cat = {}\n",
    "\n",
    "alpha = 0.\n",
    "beta_user = {}\n",
    "beta_item = {}\n",
    "beta_category = {}\n",
    "\n",
    "for d in data:\n",
    "    reviewer = d['reviewerID']\n",
    "    item = d['itemID']\n",
    "    rating = d['rating']\n",
    "    cat = d['categoryID']\n",
    "    \n",
    "    item2cat[item] = cat\n",
    "    \n",
    "    p = item_popularity.get(item, 0)\n",
    "    item_popularity[item] = p + 1\n",
    "    \n",
    "    uc = user_buy_count.get(reviewer, 0)\n",
    "    user_buy_count[reviewer] = uc + 1\n",
    "    \n",
    "    alpha += rating\n",
    "    \n",
    "    bu = beta_user.get(reviewer, (0., 0))\n",
    "    bu = (bu[0]+rating, bu[1]+1)\n",
    "    beta_user[reviewer] = bu\n",
    "    \n",
    "    bi = beta_item.get(item, (0., 0))\n",
    "    bi = (bi[0]+rating, bi[1]+1)\n",
    "    beta_item[item] = bi\n",
    "    \n",
    "    bc = beta_category.get(cat, (0., 0))\n",
    "    bc = (bc[0]+rating, bc[1]+1)\n",
    "    beta_category[cat] = bc\n",
    "\n",
    "item_rank = sorted(item_popularity.items(), key=lambda x: x[1])\n",
    "total_items = len(list(item_rank))\n",
    "item_rank = {x[0]:rank/total_items for rank, x in enumerate(item_rank)}\n",
    "\n",
    "user_rank = sorted(user_buy_count.items(), key=lambda x: x[1])\n",
    "total_users = len(list(user_rank))\n",
    "user_rank = {x[0]:rank/total_users for rank, x in enumerate(user_rank)}\n",
    "\n",
    "alpha /= len(data)\n",
    "beta_user = {r:(b[0]/b[1]) for r,b in beta_user.items()}\n",
    "beta_item = {r:(b[0]/b[1]) for r,b in beta_item.items()}\n",
    "beta_category = {r:(b[0]/b[1]) for r,b in beta_category.items()}"
   ]
  },
  {
   "cell_type": "code",
   "execution_count": 5,
   "metadata": {},
   "outputs": [],
   "source": [
    "def getFeature(u, i):\n",
    "    x = [1.]\n",
    "    \n",
    "    try:\n",
    "        c = item2cat[i]\n",
    "        x.append(item_rank[i]) # Item popularity rank\n",
    "        x.append(beta_item[i]) # Item average rating\n",
    "        x.append(beta_category[c]) # User rating on this category\n",
    "    except:\n",
    "        x.append(0.5)\n",
    "        x.append(alpha)\n",
    "        x.append(alpha)\n",
    "        \n",
    "    try:\n",
    "        x.append(0.5) # User buy rank\n",
    "        x.append(beta_user[u]) # User rating on this item\n",
    "    except:\n",
    "        x.append(total_users//2)\n",
    "        x.append(alpha)\n",
    "    \n",
    "    return x\n",
    "\n",
    "def getFeatures(X):\n",
    "    return np.array([getFeature(x[0], x[1]) for x in X])\n",
    "\n",
    "def create_batch(X, Y, batch_size):\n",
    "    m = X.shape[0]\n",
    "    n_batch = int(m / batch_size)\n",
    "\n",
    "    X_batches = []\n",
    "    Y_batches = []\n",
    "\n",
    "    permutation = np.random.permutation(m)\n",
    "    X_shuffle = X[permutation, :]\n",
    "    Y_shuffle = Y[permutation, :]\n",
    "\n",
    "    for i in range(n_batch):\n",
    "        X_batch = X_shuffle[i * batch_size: (i+1) * batch_size, :]\n",
    "        Y_batch = Y_shuffle[i * batch_size: (i+1) * batch_size, :]\n",
    "        X_batches.append(X_batch)\n",
    "        Y_batches.append(Y_batch)\n",
    "\n",
    "    if m % n_batch != 0:\n",
    "        X_batch = X_shuffle[n_batch * batch_size:, :]\n",
    "        Y_batch = Y_shuffle[n_batch * batch_size:, :]\n",
    "        X_batches.append(X_batch)\n",
    "        Y_batches.append(Y_batch)\n",
    "        n_batch += 1\n",
    "\n",
    "    return X_batches, Y_batches, n_batch"
   ]
  },
  {
   "cell_type": "code",
   "execution_count": 6,
   "metadata": {},
   "outputs": [],
   "source": [
    "trainX, trainY, valX, valY = utils.create_purchase_dataset(data)"
   ]
  },
  {
   "cell_type": "code",
   "execution_count": 7,
   "metadata": {},
   "outputs": [
    {
     "data": {
      "text/plain": [
       "((320000, 6), (320000, 1), (80000, 6), (80000, 1))"
      ]
     },
     "execution_count": 7,
     "metadata": {},
     "output_type": "execute_result"
    }
   ],
   "source": [
    "trainX = getFeatures(trainX)\n",
    "trainY = np.array(trainY).reshape(-1, 1)\n",
    "valX = getFeatures(valX)\n",
    "valY = np.array(valY).reshape(-1, 1)\n",
    "trainX.shape, trainY.shape, valX.shape, valY.shape"
   ]
  },
  {
   "cell_type": "code",
   "execution_count": 8,
   "metadata": {},
   "outputs": [],
   "source": [
    "class Net(nn.Module):\n",
    "    \n",
    "    def __init__(self):\n",
    "        super(Net, self).__init__()\n",
    "        self.fc1 = nn.Linear(6, 6)\n",
    "        self.fc2 = nn.Linear(6, 20)\n",
    "        self.fc3 = nn.Linear(20, 1)\n",
    "        self.dropout = nn.Dropout(0.2)\n",
    "        self.act = nn.Sigmoid()\n",
    "        \n",
    "    def forward(self, x):\n",
    "        x = F.relu(self.fc1(x))\n",
    "        x = self.dropout(x)\n",
    "        x = F.relu(self.fc2(x))\n",
    "        x = self.fc3(x)\n",
    "        x = self.act(x)\n",
    "        return x"
   ]
  },
  {
   "cell_type": "code",
   "execution_count": 9,
   "metadata": {},
   "outputs": [],
   "source": [
    "net = Net().to(device)"
   ]
  },
  {
   "cell_type": "code",
   "execution_count": 10,
   "metadata": {},
   "outputs": [],
   "source": [
    "# criterion = nn.BCEWithLogitsLoss()\n",
    "# optimizer = optim.SGD(net.parameters(), lr=0.01, momentum=0.9, weight_decay=1e-5)\n",
    "optimizer = optim.Adam(net.parameters(), lr=0.001, betas=(0.9, 0.999))\n",
    "criterion = nn.BCELoss()"
   ]
  },
  {
   "cell_type": "code",
   "execution_count": 11,
   "metadata": {},
   "outputs": [],
   "source": [
    "def targetTensor(target):\n",
    "    return torch.tensor(target, dtype=torch.float, device=device).view(-1, 1)\n",
    "\n",
    "def inputTensor(x):\n",
    "    return torch.tensor(x, dtype=torch.float, device=device)"
   ]
  },
  {
   "cell_type": "code",
   "execution_count": 12,
   "metadata": {},
   "outputs": [],
   "source": [
    "def train(x, y):\n",
    "    optimizer.zero_grad()\n",
    "    output = net(x)\n",
    "    loss = criterion(output, y)\n",
    "    loss.backward()\n",
    "    optimizer.step()\n",
    "    return loss.item()\n",
    "\n",
    "def trainIter(X, Y, n_iter, batch_size=16):\n",
    "    for it in range(n_iter):\n",
    "        X_batches, Y_batches, n_batch = create_batch(X, Y, batch_size)\n",
    "\n",
    "        loss = 0.\n",
    "        for i in range(n_batch):\n",
    "            x = inputTensor(X_batches[i])\n",
    "            y = targetTensor(Y_batches[i])\n",
    "            loss += train(x, y)\n",
    "\n",
    "        loss /= X.shape[0]\n",
    "        print('#%d iters, loss:%f' % (it, loss))"
   ]
  },
  {
   "cell_type": "code",
   "execution_count": 13,
   "metadata": {},
   "outputs": [
    {
     "name": "stdout",
     "output_type": "stream",
     "text": [
      "#0 iters, loss:0.043284\n",
      "#1 iters, loss:0.043222\n"
     ]
    }
   ],
   "source": [
    "trainIter(trainX, trainY, 2)"
   ]
  },
  {
   "cell_type": "code",
   "execution_count": 20,
   "metadata": {},
   "outputs": [
    {
     "data": {
      "text/plain": [
       "array([1.        , 0.31972482, 3.4       , 4.18738596, 0.5       ,\n",
       "       4.        ])"
      ]
     },
     "execution_count": 20,
     "metadata": {},
     "output_type": "execute_result"
    }
   ],
   "source": [
    "valX[0]"
   ]
  },
  {
   "cell_type": "code",
   "execution_count": 26,
   "metadata": {},
   "outputs": [
    {
     "name": "stdout",
     "output_type": "stream",
     "text": [
      "tensor([[0.5130],\n",
      "        [0.4652],\n",
      "        [0.5130],\n",
      "        ...,\n",
      "        [0.4231],\n",
      "        [0.5130],\n",
      "        [0.5130]], device='cuda:0')\n"
     ]
    }
   ],
   "source": [
    "with torch.no_grad():\n",
    "    \n",
    "#     x = inputTensor(np.expand_dims(valX[0], axis=0))\n",
    "    x = inputTensor(trainX)\n",
    "    output = net(x)\n",
    "    print(output)"
   ]
  },
  {
   "cell_type": "code",
   "execution_count": 27,
   "metadata": {},
   "outputs": [
    {
     "data": {
      "text/plain": [
       "tensor([[1.0000, 0.9356, 4.5833, 4.1874, 0.5000, 5.0000],\n",
       "        [1.0000, 0.4709, 4.6667, 4.1874, 0.5000, 4.2000],\n",
       "        [1.0000, 0.5393, 4.2857, 4.3452, 0.5000, 4.5000],\n",
       "        ...,\n",
       "        [1.0000, 0.9661, 4.5882, 4.3425, 0.5000, 3.4000],\n",
       "        [1.0000, 0.9247, 3.9545, 4.1874, 0.5000, 4.3333],\n",
       "        [1.0000, 0.6608, 4.4444, 4.1874, 0.5000, 4.6000]], device='cuda:0')"
      ]
     },
     "execution_count": 27,
     "metadata": {},
     "output_type": "execute_result"
    }
   ],
   "source": [
    "x"
   ]
  },
  {
   "cell_type": "code",
   "execution_count": 28,
   "metadata": {},
   "outputs": [],
   "source": [
    "pred = output.cpu().numpy() >= 0"
   ]
  },
  {
   "cell_type": "code",
   "execution_count": 29,
   "metadata": {},
   "outputs": [
    {
     "data": {
      "text/plain": [
       "0.500740625"
      ]
     },
     "execution_count": 29,
     "metadata": {},
     "output_type": "execute_result"
    }
   ],
   "source": [
    "np.sum(pred == trainY) / len(trainY)"
   ]
  },
  {
   "cell_type": "code",
   "execution_count": 25,
   "metadata": {},
   "outputs": [
    {
     "name": "stdout",
     "output_type": "stream",
     "text": [
      "fc1.weight tensor([[-0.3143,  0.3624, -0.1684, -0.0791, -0.1149, -0.1217],\n",
      "        [-0.0982, -0.2248,  0.0130, -0.1965,  0.1113,  0.0917],\n",
      "        [-0.2405,  0.0016, -0.3753, -0.0447,  0.3163,  0.4471],\n",
      "        [ 0.3351, -0.1912, -0.0877, -0.0853, -0.1396, -0.3205],\n",
      "        [-0.4717,  0.0196, -0.1316,  0.1604, -0.3708, -0.1256],\n",
      "        [-0.2248, -0.1046,  0.5353,  0.0379, -0.1429, -0.4450]],\n",
      "       device='cuda:0')\n",
      "fc1.bias tensor([ 0.0269,  0.3400, -0.3544,  0.3181,  0.0734, -0.2188], device='cuda:0')\n",
      "fc2.weight tensor([[-0.1412,  0.0296, -0.5414, -0.1227,  0.1369, -1.0179],\n",
      "        [ 0.2476, -0.1059,  1.1096, -0.0697,  0.0423,  0.1180],\n",
      "        [-0.1072, -0.2815, -0.0197, -0.1402, -0.1205, -0.3572],\n",
      "        [ 0.1389, -0.2253, -0.4513, -0.3101,  0.2413, -0.3526],\n",
      "        [ 0.2228, -0.1143, -0.5621, -0.3354, -0.3076, -0.3919],\n",
      "        [ 0.2517, -0.1053, -0.2468, -0.0490, -0.0547, -0.0905]],\n",
      "       device='cuda:0')\n",
      "fc2.bias tensor([ 0.4461,  0.4104, -0.0471,  0.2917,  0.3641, -0.2492], device='cuda:0')\n",
      "fc3.weight tensor([[ 0.3269, -0.6067,  0.1643,  0.2987,  0.4454,  0.2083]], device='cuda:0')\n",
      "fc3.bias tensor([-0.0943], device='cuda:0')\n"
     ]
    }
   ],
   "source": [
    "for name, param in net.named_parameters():\n",
    "    if param.requires_grad:\n",
    "        print (name, param.data)"
   ]
  },
  {
   "cell_type": "code",
   "execution_count": null,
   "metadata": {},
   "outputs": [],
   "source": []
  }
 ],
 "metadata": {
  "kernelspec": {
   "display_name": "Python 3",
   "language": "python",
   "name": "python3"
  },
  "language_info": {
   "codemirror_mode": {
    "name": "ipython",
    "version": 3
   },
   "file_extension": ".py",
   "mimetype": "text/x-python",
   "name": "python",
   "nbconvert_exporter": "python",
   "pygments_lexer": "ipython3",
   "version": "3.5.2"
  }
 },
 "nbformat": 4,
 "nbformat_minor": 2
}
