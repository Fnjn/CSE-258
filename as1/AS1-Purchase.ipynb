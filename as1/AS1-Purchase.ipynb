{
 "cells": [
  {
   "cell_type": "code",
   "execution_count": 1,
   "metadata": {},
   "outputs": [],
   "source": [
    "import numpy as np\n",
    "\n",
    "import torch\n",
    "import torch.nn as nn\n",
    "from torch import optim\n",
    "import torch.nn.functional as F\n",
    "\n",
    "device = torch.device(\"cuda\" if torch.cuda.is_available() else \"cpu\")\n",
    "\n",
    "%load_ext autoreload\n",
    "%autoreload 2\n",
    "import my_baselines\n",
    "import utils"
   ]
  },
  {
   "cell_type": "code",
   "execution_count": 2,
   "metadata": {},
   "outputs": [],
   "source": [
    "with open('train.json') as f:\n",
    "    data = f.readlines()\n",
    "\n",
    "import ast\n",
    "data = [ast.literal_eval(x) for x in data]"
   ]
  },
  {
   "cell_type": "code",
   "execution_count": 3,
   "metadata": {},
   "outputs": [
    {
     "data": {
      "text/plain": [
       "{'categories': [['Clothing, Shoes & Jewelry', 'Women'],\n",
       "  ['Clothing, Shoes & Jewelry',\n",
       "   'Novelty, Costumes & More',\n",
       "   'Novelty',\n",
       "   'Clothing',\n",
       "   'Women',\n",
       "   'Leggings']],\n",
       " 'categoryID': 0,\n",
       " 'helpful': {'nHelpful': 0, 'outOf': 0},\n",
       " 'itemID': 'I402344648',\n",
       " 'rating': 4.0,\n",
       " 'reviewHash': 'R798569390',\n",
       " 'reviewText': \"The model in this picture has them rolled up at the top because they are actually very high waisted! that's my only complaint though, because they are very good quality, and fit really well! I am 5'2&#34; 120lbs with thick thighs and i love them i can't wait to wear them out!\",\n",
       " 'reviewTime': '09 26, 2013',\n",
       " 'reviewerID': 'U490934656',\n",
       " 'summary': 'High Waisted',\n",
       " 'unixReviewTime': 1380153600}"
      ]
     },
     "execution_count": 3,
     "metadata": {},
     "output_type": "execute_result"
    }
   ],
   "source": [
    "data[0]"
   ]
  },
  {
   "cell_type": "code",
   "execution_count": 4,
   "metadata": {},
   "outputs": [],
   "source": [
    "item_popularity = {}\n",
    "user_buy_count = {}\n",
    "item2cat = {}\n",
    "\n",
    "alpha = 0.\n",
    "beta_user = {}\n",
    "beta_item = {}\n",
    "beta_category = {}\n",
    "\n",
    "for d in data:\n",
    "    reviewer = d['reviewerID']\n",
    "    item = d['itemID']\n",
    "    rating = d['rating']\n",
    "    cat = d['categoryID']\n",
    "    \n",
    "    item2cat[item] = cat\n",
    "    \n",
    "    p = item_popularity.get(item, 0)\n",
    "    item_popularity[item] = p + 1\n",
    "    \n",
    "    uc = user_buy_count.get(reviewer, 0)\n",
    "    user_buy_count[reviewer] = uc + 1\n",
    "    \n",
    "    alpha += rating\n",
    "    \n",
    "    bu = beta_user.get(reviewer, (0., 0))\n",
    "    bu = (bu[0]+rating, bu[1]+1)\n",
    "    beta_user[reviewer] = bu\n",
    "    \n",
    "    bi = beta_item.get(item, (0., 0))\n",
    "    bi = (bi[0]+rating, bi[1]+1)\n",
    "    beta_item[item] = bi\n",
    "    \n",
    "    bc = beta_category.get(cat, (0., 0))\n",
    "    bc = (bc[0]+rating, bc[1]+1)\n",
    "    beta_category[cat] = bc\n",
    "\n",
    "item_rank = sorted(item_popularity.items(), key=lambda x: x[1], reverse=True)\n",
    "item_rank = {x[0]:rank for rank, x in enumerate(item_rank)}\n",
    "\n",
    "user_rank = sorted(user_buy_count.items(), key=lambda x: x[1], reverse=True)\n",
    "user_rank = {x[0]:rank for rank, x in enumerate(user_rank)}\n",
    "\n",
    "alpha /= len(data)\n",
    "beta_user = {r:(b[0]/b[1]) for r,b in beta_user.items()}\n",
    "beta_item = {r:(b[0]/b[1]) for r,b in beta_item.items()}\n",
    "beta_category = {r:(b[0]/b[1]) for r,b in beta_category.items()}"
   ]
  },
  {
   "cell_type": "code",
   "execution_count": 21,
   "metadata": {},
   "outputs": [],
   "source": [
    "def getFeature(u, i):\n",
    "    x = [1.]\n",
    "    \n",
    "    try:\n",
    "        c = item2cat[i]\n",
    "        x.append(item_rank[i]) # Item popularity\n",
    "        x.append(beta_item[i]) # Item average rating\n",
    "        x.append(beta_category[c]) # User rating on this category\n",
    "    except:\n",
    "        x.append(alpha)\n",
    "        x.append(alpha)\n",
    "        x.append(alpha)\n",
    "        \n",
    "    try:\n",
    "        x.append(user_rank[u]) # User buy rank\n",
    "        x.append(beta_user[u]) # User rating on this item\n",
    "    except:\n",
    "        x.append(alpha)\n",
    "        x.append(alpha)\n",
    "    \n",
    "    return x\n",
    "\n",
    "def getFeatures(X):\n",
    "    return np.array([getFeature(x[0], x[1]) for x in X])\n",
    "\n",
    "def create_batch(X, Y, batch_size):\n",
    "    m = X.shape[0]\n",
    "    n_batch = int(m / batch_size)\n",
    "\n",
    "    X_batches = []\n",
    "    Y_batches = []\n",
    "\n",
    "    permutation = np.random.permutation(m)\n",
    "    X_shuffle = X[permutation, :]\n",
    "    Y_shuffle = Y[permutation, :]\n",
    "\n",
    "    for i in range(n_batch):\n",
    "        X_batch = X_shuffle[i * batch_size: (i+1) * batch_size, :]\n",
    "        Y_batch = Y_shuffle[i * batch_size: (i+1) * batch_size, :]\n",
    "        X_batches.append(X_batch)\n",
    "        Y_batches.append(Y_batch)\n",
    "\n",
    "    if m % n_batch != 0:\n",
    "        X_batch = X_shuffle[n_batch * batch_size:, :]\n",
    "        Y_batch = Y_shuffle[n_batch * batch_size:, :]\n",
    "        X_batches.append(X_batch)\n",
    "        Y_batches.append(Y_batch)\n",
    "        n_batch += 1\n",
    "\n",
    "    return X_batches, Y_batches, n_batch"
   ]
  },
  {
   "cell_type": "code",
   "execution_count": 17,
   "metadata": {},
   "outputs": [],
   "source": [
    "reviewer_item_pair = {}\n",
    "reviewer_list = []\n",
    "item_list = []\n",
    "\n",
    "for d in data:\n",
    "    reviewer = d['reviewerID']\n",
    "    item = d['itemID']\n",
    "    pair = reviewer_item_pair.get(reviewer, [])\n",
    "    pair.append(item)\n",
    "    reviewer_item_pair[reviewer] = pair\n",
    "    reviewer_list.append(reviewer)\n",
    "    item_list.append(item)\n",
    "    \n",
    "import random\n",
    "cnt = 0\n",
    "neg_pair = []\n",
    "\n",
    "while(cnt < 200000):\n",
    "    reviewer = random.choice(reviewer_list)\n",
    "    item = random.choice(item_list)\n",
    "    if item not in reviewer_item_pair[reviewer]:\n",
    "        neg_pair.append((reviewer, item))\n",
    "        cnt += 1    \n",
    "        \n",
    "dataX = []\n",
    "dataY = []\n",
    "\n",
    "for d in data:\n",
    "    dataX.append((d['reviewerID'], d['itemID']))\n",
    "    dataY.append(1)\n",
    "\n",
    "dataX += neg_pair\n",
    "dataY += len(neg_pair) * [0]\n",
    "\n",
    "holdout_ratio = 0.2\n",
    "trainX, trainY, valX, valY = utils.split_data(dataX, dataY, holdout_ratio, shuffle=True)"
   ]
  },
  {
   "cell_type": "code",
   "execution_count": 48,
   "metadata": {},
   "outputs": [
    {
     "data": {
      "text/plain": [
       "((320000, 6), (320000, 1), (80000, 6), (80000, 1))"
      ]
     },
     "execution_count": 48,
     "metadata": {},
     "output_type": "execute_result"
    }
   ],
   "source": [
    "trainX = getFeatures(trainX)\n",
    "trainY = np.array(trainY).reshape(-1, 1)\n",
    "valX = getFeatures(valX)\n",
    "valY = np.array(valY).reshape(-1, 1)\n",
    "trainX.shape, trainY.shape, valX.shape, valY.shape"
   ]
  },
  {
   "cell_type": "code",
   "execution_count": 49,
   "metadata": {},
   "outputs": [],
   "source": [
    "class Net(nn.Module):\n",
    "    \n",
    "    def __init__(self):\n",
    "        super(Net, self).__init__()\n",
    "        self.fc1 = nn.Linear(6, 6)\n",
    "        self.fc2 = nn.Linear(6, 6)\n",
    "        self.fc3 = nn.Linear(6, 1)\n",
    "        \n",
    "    def forward(self, x):\n",
    "        x = F.relu(self.fc1(x))\n",
    "        x = F.relu(self.fc2(x))\n",
    "        x = self.fc3(x)\n",
    "        return x"
   ]
  },
  {
   "cell_type": "code",
   "execution_count": 50,
   "metadata": {},
   "outputs": [],
   "source": [
    "net = Net().to(device)"
   ]
  },
  {
   "cell_type": "code",
   "execution_count": 51,
   "metadata": {},
   "outputs": [],
   "source": [
    "criterion = nn.CrossEntropyLoss()\n",
    "optimizer = optim.SGD(net.parameters(), lr=0.01)"
   ]
  },
  {
   "cell_type": "code",
   "execution_count": 64,
   "metadata": {},
   "outputs": [],
   "source": [
    "def targetTensor(target):\n",
    "    return torch.tensor(target, dtype=torch.long, device=device).view(-1)\n",
    "\n",
    "def inputTensor(x):\n",
    "    return torch.tensor(x, dtype=torch.float, device=device)"
   ]
  },
  {
   "cell_type": "code",
   "execution_count": 65,
   "metadata": {},
   "outputs": [],
   "source": [
    "def train(x, y):\n",
    "    optimizer.zero_grad()\n",
    "    output = net(x)\n",
    "    loss = criterion(output, y)\n",
    "    loss.backward()\n",
    "    optimizer.step()\n",
    "    return loss.item()\n",
    "\n",
    "def trainIter(X, Y, n_iter, batch_size=16):\n",
    "    for it in range(n_iter):\n",
    "        X_batches, Y_batches, n_batch = create_batch(X, Y, batch_size)\n",
    "\n",
    "        loss = 0.\n",
    "        for i in range(n_batch):\n",
    "            x = inputTensor(X_batches[i])\n",
    "            y = targetTensor(Y_batches[i])\n",
    "            loss += train(x, y)\n",
    "\n",
    "        loss /= X.shape[0]\n",
    "        print('#%d iters, loss:%f' % (it, loss))"
   ]
  },
  {
   "cell_type": "code",
   "execution_count": 66,
   "metadata": {},
   "outputs": [
    {
     "name": "stdout",
     "output_type": "stream",
     "text": [
      "torch.Size([16])\n"
     ]
    },
    {
     "ename": "RuntimeError",
     "evalue": "cuda runtime error (59) : device-side assert triggered at /pytorch/aten/src/THC/generic/THCTensorMath.cu:15",
     "output_type": "error",
     "traceback": [
      "\u001b[0;31m---------------------------------------------------------------------------\u001b[0m",
      "\u001b[0;31mRuntimeError\u001b[0m                              Traceback (most recent call last)",
      "\u001b[0;32m<ipython-input-66-7e7fabde75c9>\u001b[0m in \u001b[0;36m<module>\u001b[0;34m()\u001b[0m\n\u001b[0;32m----> 1\u001b[0;31m \u001b[0mtrainIter\u001b[0m\u001b[0;34m(\u001b[0m\u001b[0mtrainX\u001b[0m\u001b[0;34m,\u001b[0m \u001b[0mtrainY\u001b[0m\u001b[0;34m,\u001b[0m \u001b[0;36m10\u001b[0m\u001b[0;34m)\u001b[0m\u001b[0;34m\u001b[0m\u001b[0m\n\u001b[0m",
      "\u001b[0;32m<ipython-input-65-e2035a5b28e3>\u001b[0m in \u001b[0;36mtrainIter\u001b[0;34m(X, Y, n_iter, batch_size)\u001b[0m\n\u001b[1;32m     15\u001b[0m             \u001b[0mx\u001b[0m \u001b[0;34m=\u001b[0m \u001b[0minputTensor\u001b[0m\u001b[0;34m(\u001b[0m\u001b[0mX_batches\u001b[0m\u001b[0;34m[\u001b[0m\u001b[0mi\u001b[0m\u001b[0;34m]\u001b[0m\u001b[0;34m)\u001b[0m\u001b[0;34m\u001b[0m\u001b[0m\n\u001b[1;32m     16\u001b[0m             \u001b[0my\u001b[0m \u001b[0;34m=\u001b[0m \u001b[0mtargetTensor\u001b[0m\u001b[0;34m(\u001b[0m\u001b[0mY_batches\u001b[0m\u001b[0;34m[\u001b[0m\u001b[0mi\u001b[0m\u001b[0;34m]\u001b[0m\u001b[0;34m)\u001b[0m\u001b[0;34m\u001b[0m\u001b[0m\n\u001b[0;32m---> 17\u001b[0;31m             \u001b[0mloss\u001b[0m \u001b[0;34m+=\u001b[0m \u001b[0mtrain\u001b[0m\u001b[0;34m(\u001b[0m\u001b[0mx\u001b[0m\u001b[0;34m,\u001b[0m \u001b[0my\u001b[0m\u001b[0;34m)\u001b[0m\u001b[0;34m\u001b[0m\u001b[0m\n\u001b[0m\u001b[1;32m     18\u001b[0m \u001b[0;34m\u001b[0m\u001b[0m\n\u001b[1;32m     19\u001b[0m         \u001b[0mloss\u001b[0m \u001b[0;34m/=\u001b[0m \u001b[0mX\u001b[0m\u001b[0;34m.\u001b[0m\u001b[0mshape\u001b[0m\u001b[0;34m[\u001b[0m\u001b[0;36m0\u001b[0m\u001b[0;34m]\u001b[0m\u001b[0;34m\u001b[0m\u001b[0m\n",
      "\u001b[0;32m<ipython-input-65-e2035a5b28e3>\u001b[0m in \u001b[0;36mtrain\u001b[0;34m(x, y)\u001b[0m\n\u001b[1;32m      3\u001b[0m     \u001b[0moutput\u001b[0m \u001b[0;34m=\u001b[0m \u001b[0mnet\u001b[0m\u001b[0;34m(\u001b[0m\u001b[0mx\u001b[0m\u001b[0;34m)\u001b[0m\u001b[0;34m\u001b[0m\u001b[0m\n\u001b[1;32m      4\u001b[0m     \u001b[0mloss\u001b[0m \u001b[0;34m=\u001b[0m \u001b[0mcriterion\u001b[0m\u001b[0;34m(\u001b[0m\u001b[0moutput\u001b[0m\u001b[0;34m,\u001b[0m \u001b[0my\u001b[0m\u001b[0;34m)\u001b[0m\u001b[0;34m\u001b[0m\u001b[0m\n\u001b[0;32m----> 5\u001b[0;31m     \u001b[0mloss\u001b[0m\u001b[0;34m.\u001b[0m\u001b[0mbackward\u001b[0m\u001b[0;34m(\u001b[0m\u001b[0;34m)\u001b[0m\u001b[0;34m\u001b[0m\u001b[0m\n\u001b[0m\u001b[1;32m      6\u001b[0m     \u001b[0moptimizer\u001b[0m\u001b[0;34m.\u001b[0m\u001b[0mstep\u001b[0m\u001b[0;34m(\u001b[0m\u001b[0;34m)\u001b[0m\u001b[0;34m\u001b[0m\u001b[0m\n\u001b[1;32m      7\u001b[0m     \u001b[0;32mreturn\u001b[0m \u001b[0mloss\u001b[0m\u001b[0;34m.\u001b[0m\u001b[0mitem\u001b[0m\u001b[0;34m(\u001b[0m\u001b[0;34m)\u001b[0m\u001b[0;34m\u001b[0m\u001b[0m\n",
      "\u001b[0;32m/usr/local/lib/python3.5/dist-packages/torch/tensor.py\u001b[0m in \u001b[0;36mbackward\u001b[0;34m(self, gradient, retain_graph, create_graph)\u001b[0m\n\u001b[1;32m     91\u001b[0m                 \u001b[0mproducts\u001b[0m\u001b[0;34m.\u001b[0m \u001b[0mDefaults\u001b[0m \u001b[0mto\u001b[0m\u001b[0;31m \u001b[0m\u001b[0;31m`\u001b[0m\u001b[0;31m`\u001b[0m\u001b[0;32mFalse\u001b[0m\u001b[0;31m`\u001b[0m\u001b[0;31m`\u001b[0m\u001b[0;34m.\u001b[0m\u001b[0;34m\u001b[0m\u001b[0m\n\u001b[1;32m     92\u001b[0m         \"\"\"\n\u001b[0;32m---> 93\u001b[0;31m         \u001b[0mtorch\u001b[0m\u001b[0;34m.\u001b[0m\u001b[0mautograd\u001b[0m\u001b[0;34m.\u001b[0m\u001b[0mbackward\u001b[0m\u001b[0;34m(\u001b[0m\u001b[0mself\u001b[0m\u001b[0;34m,\u001b[0m \u001b[0mgradient\u001b[0m\u001b[0;34m,\u001b[0m \u001b[0mretain_graph\u001b[0m\u001b[0;34m,\u001b[0m \u001b[0mcreate_graph\u001b[0m\u001b[0;34m)\u001b[0m\u001b[0;34m\u001b[0m\u001b[0m\n\u001b[0m\u001b[1;32m     94\u001b[0m \u001b[0;34m\u001b[0m\u001b[0m\n\u001b[1;32m     95\u001b[0m     \u001b[0;32mdef\u001b[0m \u001b[0mregister_hook\u001b[0m\u001b[0;34m(\u001b[0m\u001b[0mself\u001b[0m\u001b[0;34m,\u001b[0m \u001b[0mhook\u001b[0m\u001b[0;34m)\u001b[0m\u001b[0;34m:\u001b[0m\u001b[0;34m\u001b[0m\u001b[0m\n",
      "\u001b[0;32m/usr/local/lib/python3.5/dist-packages/torch/autograd/__init__.py\u001b[0m in \u001b[0;36mbackward\u001b[0;34m(tensors, grad_tensors, retain_graph, create_graph, grad_variables)\u001b[0m\n\u001b[1;32m     82\u001b[0m         \u001b[0mgrad_tensors\u001b[0m \u001b[0;34m=\u001b[0m \u001b[0mlist\u001b[0m\u001b[0;34m(\u001b[0m\u001b[0mgrad_tensors\u001b[0m\u001b[0;34m)\u001b[0m\u001b[0;34m\u001b[0m\u001b[0m\n\u001b[1;32m     83\u001b[0m \u001b[0;34m\u001b[0m\u001b[0m\n\u001b[0;32m---> 84\u001b[0;31m     \u001b[0mgrad_tensors\u001b[0m \u001b[0;34m=\u001b[0m \u001b[0m_make_grads\u001b[0m\u001b[0;34m(\u001b[0m\u001b[0mtensors\u001b[0m\u001b[0;34m,\u001b[0m \u001b[0mgrad_tensors\u001b[0m\u001b[0;34m)\u001b[0m\u001b[0;34m\u001b[0m\u001b[0m\n\u001b[0m\u001b[1;32m     85\u001b[0m     \u001b[0;32mif\u001b[0m \u001b[0mretain_graph\u001b[0m \u001b[0;32mis\u001b[0m \u001b[0;32mNone\u001b[0m\u001b[0;34m:\u001b[0m\u001b[0;34m\u001b[0m\u001b[0m\n\u001b[1;32m     86\u001b[0m         \u001b[0mretain_graph\u001b[0m \u001b[0;34m=\u001b[0m \u001b[0mcreate_graph\u001b[0m\u001b[0;34m\u001b[0m\u001b[0m\n",
      "\u001b[0;32m/usr/local/lib/python3.5/dist-packages/torch/autograd/__init__.py\u001b[0m in \u001b[0;36m_make_grads\u001b[0;34m(outputs, grads)\u001b[0m\n\u001b[1;32m     27\u001b[0m                 \u001b[0;32mif\u001b[0m \u001b[0mout\u001b[0m\u001b[0;34m.\u001b[0m\u001b[0mnumel\u001b[0m\u001b[0;34m(\u001b[0m\u001b[0;34m)\u001b[0m \u001b[0;34m!=\u001b[0m \u001b[0;36m1\u001b[0m\u001b[0;34m:\u001b[0m\u001b[0;34m\u001b[0m\u001b[0m\n\u001b[1;32m     28\u001b[0m                     \u001b[0;32mraise\u001b[0m \u001b[0mRuntimeError\u001b[0m\u001b[0;34m(\u001b[0m\u001b[0;34m\"grad can be implicitly created only for scalar outputs\"\u001b[0m\u001b[0;34m)\u001b[0m\u001b[0;34m\u001b[0m\u001b[0m\n\u001b[0;32m---> 29\u001b[0;31m                 \u001b[0mnew_grads\u001b[0m\u001b[0;34m.\u001b[0m\u001b[0mappend\u001b[0m\u001b[0;34m(\u001b[0m\u001b[0mtorch\u001b[0m\u001b[0;34m.\u001b[0m\u001b[0mones_like\u001b[0m\u001b[0;34m(\u001b[0m\u001b[0mout\u001b[0m\u001b[0;34m)\u001b[0m\u001b[0;34m)\u001b[0m\u001b[0;34m\u001b[0m\u001b[0m\n\u001b[0m\u001b[1;32m     30\u001b[0m             \u001b[0;32melse\u001b[0m\u001b[0;34m:\u001b[0m\u001b[0;34m\u001b[0m\u001b[0m\n\u001b[1;32m     31\u001b[0m                 \u001b[0mnew_grads\u001b[0m\u001b[0;34m.\u001b[0m\u001b[0mappend\u001b[0m\u001b[0;34m(\u001b[0m\u001b[0;32mNone\u001b[0m\u001b[0;34m)\u001b[0m\u001b[0;34m\u001b[0m\u001b[0m\n",
      "\u001b[0;31mRuntimeError\u001b[0m: cuda runtime error (59) : device-side assert triggered at /pytorch/aten/src/THC/generic/THCTensorMath.cu:15"
     ]
    }
   ],
   "source": [
    "trainIter(trainX, trainY, 10)"
   ]
  },
  {
   "cell_type": "code",
   "execution_count": 26,
   "metadata": {},
   "outputs": [
    {
     "data": {
      "text/plain": [
       "(array([1.00000000e+00, 1.35650000e+04, 3.80000000e+00, 4.18738596e+00,\n",
       "        1.36480000e+04, 1.80000000e+00]), array([1]))"
      ]
     },
     "execution_count": 26,
     "metadata": {},
     "output_type": "execute_result"
    }
   ],
   "source": [
    "trainX[0], trainY[0]"
   ]
  },
  {
   "cell_type": "code",
   "execution_count": 56,
   "metadata": {},
   "outputs": [
    {
     "data": {
      "text/plain": [
       "array([1])"
      ]
     },
     "execution_count": 56,
     "metadata": {},
     "output_type": "execute_result"
    }
   ],
   "source": [
    "trainY[0]"
   ]
  },
  {
   "cell_type": "code",
   "execution_count": null,
   "metadata": {},
   "outputs": [],
   "source": []
  }
 ],
 "metadata": {
  "kernelspec": {
   "display_name": "Python 3",
   "language": "python",
   "name": "python3"
  },
  "language_info": {
   "codemirror_mode": {
    "name": "ipython",
    "version": 3
   },
   "file_extension": ".py",
   "mimetype": "text/x-python",
   "name": "python",
   "nbconvert_exporter": "python",
   "pygments_lexer": "ipython3",
   "version": "3.5.2"
  }
 },
 "nbformat": 4,
 "nbformat_minor": 2
}
