{
 "cells": [
  {
   "cell_type": "code",
   "execution_count": 1,
   "metadata": {},
   "outputs": [],
   "source": [
    "import numpy as np\n",
    "import urllib\n",
    "import nltk\n",
    "from nltk.stem.porter import *\n",
    "from sklearn import linear_model\n",
    "\n",
    "import string\n",
    "import math\n",
    "import random\n",
    "import re\n",
    "from collections import Counter"
   ]
  },
  {
   "cell_type": "code",
   "execution_count": 2,
   "metadata": {},
   "outputs": [],
   "source": [
    "def parseData(fname):\n",
    "    for l in urllib.request.urlopen(fname):\n",
    "        yield eval(l)\n",
    "\n",
    "all_data = list(parseData(\"http://jmcauley.ucsd.edu/cse190/data/beer/beer_50000.json\"))\n",
    "\n",
    "data = all_data[:5000]\n",
    "corpus = [d['review/text'] for d in data]"
   ]
  },
  {
   "cell_type": "code",
   "execution_count": 3,
   "metadata": {},
   "outputs": [
    {
     "name": "stdout",
     "output_type": "stream",
     "text": [
      "(('with', 'a'), 4587)\n",
      "(('in', 'the'), 2595)\n",
      "(('of', 'the'), 2245)\n",
      "(('is', 'a'), 2056)\n",
      "(('on', 'the'), 2033)\n"
     ]
    }
   ],
   "source": [
    "##########################\n",
    "# 1\n",
    "##########################\n",
    "\n",
    "punctuation = set(string.punctuation)\n",
    "\n",
    "def puncFilter(text, rmPunc):\n",
    "    if rmPunc:\n",
    "        return ''.join([c for c in text.lower() if c not in punctuation])\n",
    "    else:\n",
    "        ''.join(re.findall(r\"\\w+|[^\\w\\s]\", text.lower()))\n",
    "\n",
    "def text2bigrams(text, rmPunc=True):\n",
    "    return nltk.bigrams(puncFilter(text, rmPunc).split())\n",
    "\n",
    "bigrams_cnt = Counter()\n",
    "\n",
    "for text in corpus:\n",
    "    bigrams_cnt += Counter(text2bigrams(text))\n",
    "    \n",
    "for i in bigrams_cnt.most_common(5):\n",
    "    print(i)"
   ]
  },
  {
   "cell_type": "code",
   "execution_count": 4,
   "metadata": {},
   "outputs": [
    {
     "name": "stdout",
     "output_type": "stream",
     "text": [
      "MSE: 0.342262\n"
     ]
    }
   ],
   "source": [
    "##########################\n",
    "# 2\n",
    "##########################\n",
    "\n",
    "def word_cnt_feature(top_grams, text_grams):\n",
    "    feat = [0] * len(top_grams)\n",
    "    for bi in text_grams:\n",
    "        try:\n",
    "            feat[top_grams.index(bi)] += 1\n",
    "        except:\n",
    "            pass\n",
    "    feat.append(1)\n",
    "    return feat\n",
    "\n",
    "\n",
    "def calMSE(X, y, lamda=1.0):\n",
    "    clf = linear_model.Ridge(lamda, fit_intercept=False)\n",
    "    clf.fit(X, y)\n",
    "    predictions = clf.predict(X)\n",
    "    return np.mean((y - predictions)**2)\n",
    "\n",
    "bigrams = [entry[0] for entry in bigrams_cnt.most_common(1000)]\n",
    "X = [word_cnt_feature(bigrams, text2bigrams(text)) for text in corpus]\n",
    "y = [d['review/overall'] for d in data]\n",
    "\n",
    "mse = calMSE(X, y)\n",
    "print('MSE: %f' % (mse))"
   ]
  },
  {
   "cell_type": "code",
   "execution_count": 5,
   "metadata": {},
   "outputs": [],
   "source": [
    "##########################\n",
    "# 3\n",
    "##########################\n",
    "\n",
    "def calTF(word, gram):\n",
    "    cnt = Counter(gram)\n",
    "    try:\n",
    "        return cnt[word]\n",
    "    except:\n",
    "        return 0\n",
    "    \n",
    "def calIDF(word, cnvt, rmPunc):\n",
    "    try:\n",
    "        idf = IDF_D[word]\n",
    "    except:\n",
    "        numer = len(corpus)\n",
    "        denom = sum([word in cnvt(text, rmPunc) for text in corpus])\n",
    "        denom = denom if denom !=0 else 1e-7 # avoid division by 0\n",
    "        idf = math.log10(numer / denom)\n",
    "        IDF_D[word] = idf\n",
    "    return idf\n",
    "    \n",
    "def calTF_IDF(word, text, cnvt, rmPunc=True):\n",
    "    gram = cnvt(text, rmPunc)\n",
    "    tf = calTF(word, gram)\n",
    "    idf = calIDF(word, cnvt, rmPunc)\n",
    "    return tf * idf\n",
    "\n",
    "def text2unigram(text, rmPunc=True):\n",
    "    return puncFilter(text, rmPunc).split()"
   ]
  },
  {
   "cell_type": "code",
   "execution_count": 6,
   "metadata": {},
   "outputs": [
    {
     "name": "stdout",
     "output_type": "stream",
     "text": [
      "\"foam\" tf-idf score: 2.275737\n",
      "\"smell\" tf-idf score: 0.537902\n",
      "\"banana\" tf-idf score: 3.355561\n",
      "\"lactic\" tf-idf score: 5.841638\n",
      "\"tart\" tf-idf score: 1.806875\n"
     ]
    }
   ],
   "source": [
    "IDF_D = {}\n",
    "word_list = ['foam', 'smell', 'banana', 'lactic', 'tart']\n",
    "text = corpus[0]\n",
    "for word in word_list:\n",
    "    tf_idf = calTF_IDF(word, text, text2unigram)\n",
    "    print('\"%s\" tf-idf score: %f' % (word, tf_idf))"
   ]
  },
  {
   "cell_type": "code",
   "execution_count": 7,
   "metadata": {},
   "outputs": [
    {
     "name": "stdout",
     "output_type": "stream",
     "text": [
      "Cosine similarity: 0.106130\n"
     ]
    }
   ],
   "source": [
    "##########################\n",
    "# 4\n",
    "##########################\n",
    "\n",
    "def cosine_similarity(x1, x2):\n",
    "    numer = x1.dot(x2)\n",
    "    denom = np.linalg.norm(x1) * np.linalg.norm(x2)\n",
    "    denom = denom if denom !=0 else 1e-7 # avoid division by 0\n",
    "    return numer / denom\n",
    "\n",
    "unigrams_cnt = Counter()\n",
    "\n",
    "for text in corpus:\n",
    "    unigrams_cnt += Counter(text2unigram(text))\n",
    "    \n",
    "unigrams = [entry[0] for entry in unigrams_cnt.most_common(1000)]\n",
    "\n",
    "text1 = corpus[0]\n",
    "text2 = corpus[1]\n",
    "\n",
    "IDF_D = {}\n",
    "tf_idf1 = np.array([calTF_IDF(w, text1, text2unigram) for w in unigrams])\n",
    "tf_idf2 = np.array([calTF_IDF(w, text2, text2unigram) for w in unigrams])\n",
    "\n",
    "cos_sim = cosine_similarity(tf_idf1, tf_idf2)\n",
    "print('Cosine similarity: %f' %(cos_sim))"
   ]
  },
  {
   "cell_type": "code",
   "execution_count": 8,
   "metadata": {},
   "outputs": [],
   "source": [
    "##########################\n",
    "# 5\n",
    "##########################\n",
    "\n",
    "IDF_D = {}\n",
    "TF_IDF = {}\n",
    "for i, text in enumerate(corpus):\n",
    "    TF_IDF[i] = np.array([calTF_IDF(w, text, text2unigram) for w in unigrams])"
   ]
  },
  {
   "cell_type": "code",
   "execution_count": 9,
   "metadata": {},
   "outputs": [],
   "source": [
    "cos_sim_res = {}\n",
    "for k, v in TF_IDF.items():\n",
    "    cos_sim_res[k] = cosine_similarity(TF_IDF[0], v)"
   ]
  },
  {
   "cell_type": "code",
   "execution_count": 10,
   "metadata": {},
   "outputs": [
    {
     "name": "stdout",
     "output_type": "stream",
     "text": [
      "beerID: 52211\n",
      "profileName: Frog's Hollow Double Pumpkin Ale\n"
     ]
    }
   ],
   "source": [
    "idx = sorted(cos_sim_res.items(), key=lambda x: x[1], reverse=True)[1][0]\n",
    "data[idx]\n",
    "\n",
    "print('beerID: %s' % data[idx]['beer/beerId'])\n",
    "print('profileName: %s' % data[idx]['beer/name'])"
   ]
  },
  {
   "cell_type": "code",
   "execution_count": 11,
   "metadata": {},
   "outputs": [
    {
     "name": "stdout",
     "output_type": "stream",
     "text": [
      "MSE: 1.133687\n"
     ]
    }
   ],
   "source": [
    "##########################\n",
    "# 6\n",
    "##########################\n",
    "\n",
    "def tf_idf_feature(TF_IDF,i):\n",
    "    return TF_IDF[i]\n",
    "\n",
    "X = [tf_idf_feature(TF_IDF, i) for i in range(len(data))]\n",
    "y = [d['review/overall'] for d in data]\n",
    "\n",
    "mse = calMSE(X, y)\n",
    "print('MSE: %f' % (mse))"
   ]
  },
  {
   "cell_type": "code",
   "execution_count": 12,
   "metadata": {},
   "outputs": [],
   "source": [
    "##########################\n",
    "# 7\n",
    "##########################\n",
    "\n",
    "data = all_data\n",
    "corpus = [d['review/text'] for d in data]\n",
    "\n",
    "def split_data(X, Y, n_train, n_val, n_test, shuffle=False):\n",
    "    m = len(X)\n",
    "    n_val += n_train\n",
    "    n_test += n_val\n",
    "\n",
    "    if shuffle:\n",
    "        r = list(zip(X, Y))\n",
    "        random.shuffle(r)\n",
    "        X, Y = list(zip(*r))\n",
    "\n",
    "    return (X[:n_train], Y[:n_train]), (X[n_train:n_val], Y[n_train:n_val]), \\\n",
    "            (X[n_val:n_test], Y[n_val:n_test])\n",
    "\n",
    "# X = [feature(text) for text in corpus]\n",
    "y = [d['review/overall'] for d in data]\n",
    "\n",
    "trainData, valData, testData = split_data(corpus, y, 5000, 5000, 5000, shuffle=True)\n",
    "\n",
    "trainCorpus, trainY = trainData\n",
    "valCorpus, valY = valData\n",
    "testCorpus, testY = testData"
   ]
  },
  {
   "cell_type": "code",
   "execution_count": 13,
   "metadata": {},
   "outputs": [],
   "source": [
    "class Model:\n",
    "    def __init__(self, top_grams, cnvt, rmPunc, use_tf_idf, TF_IDF=None):\n",
    "        self.top_grams = top_grams\n",
    "        self.cnvt = cnvt\n",
    "        self.rmPunc = rmPunc\n",
    "        self.use_tf_idf = use_tf_idf\n",
    "        \n",
    "        self.TF_IDF = TF_IDF\n",
    "        \n",
    "    def get_feature(self, corpus):\n",
    "        if self.use_tf_idf:\n",
    "            return [tf_idf_feature(self.TF_IDF, i) for i in range(len(corpus))]\n",
    "        else:\n",
    "            return [word_cnt_feature(self.top_grams, self.cnvt(text, self.rmPunc)) \n",
    "                    for text in corpus]\n",
    "    \n",
    "    def train(self, X, y, lamda):\n",
    "        self.clf = linear_model.Ridge(lamda, fit_intercept=False)\n",
    "        self.clf.fit(X, y)\n",
    "        \n",
    "    def validation(self, X, y, lamdas):\n",
    "        best_mse = math.inf\n",
    "        best_lamda = None\n",
    "        best_clf = None\n",
    "        \n",
    "        for lamda in lamdas:\n",
    "            self.train(X, y, lamda)\n",
    "            mse = self.test(X, y)\n",
    "            \n",
    "            if mse < best_mse:\n",
    "                best_mse = mse\n",
    "                best_lamda = lamda\n",
    "                \n",
    "        self.best_lamda = best_lamda\n",
    "        self.clf = best_clf\n",
    "    \n",
    "    def test(self, X, y):\n",
    "        predictions = self.predict(X)\n",
    "        return np.mean((y - predictions)**2)\n",
    "    \n",
    "    def predict(self, X):\n",
    "        return self.clf.predict(X)"
   ]
  },
  {
   "cell_type": "code",
   "execution_count": 14,
   "metadata": {},
   "outputs": [],
   "source": [
    "lamda = [0.01, 0.1, 1, 10, 100]\n",
    "\n",
    "unigrams_cnt = Counter()\n",
    "bigrams_cnt = Counter()\n",
    "\n",
    "for text in trainCorpus:\n",
    "    unigrams_cnt += Counter(text2unigram(text))\n",
    "    bigrams_cnt += Counter(text2bigrams(text))\n",
    "    \n",
    "unigrams = [entry[0] for entry in unigrams_cnt.most_common(1000)]\n",
    "bigrams = [entry[0] for entry in bigrams_cnt.most_common(1000)]"
   ]
  },
  {
   "cell_type": "code",
   "execution_count": 15,
   "metadata": {},
   "outputs": [],
   "source": [
    "IDF_D = {}\n",
    "def tf_idf_calculator(grams, corpus, cnvt, rmPunc=True):\n",
    "    TF_IDF = {}\n",
    "    IDF_D.clear()\n",
    "    \n",
    "    for i, text in enumerate(corpus):\n",
    "        tf_idf = [calTF_IDF(gram, text, cnvt, rmPunc) for gram in grams]\n",
    "        TF_IDF[i] = tf_idf\n",
    "    return TF_IDF\n",
    "\n",
    "import time\n",
    "\n",
    "def print_time(startTime):\n",
    "    ts = time.time() - startTime\n",
    "    print('%dm, %ds' % (ts/60, ts%60))\n",
    "\n",
    "def pipeline(top_grams, cnvt, rmPunc, use_tf_idf):\n",
    "    startTime = time.time()\n",
    "    if use_tf_idf:\n",
    "        TF_IDF = tf_idf_calculator(top_grams, trainCorpus, cnvt, rmPunc)\n",
    "    else:\n",
    "        TF_IDF = None\n",
    "        \n",
    "    print_time(startTime)\n",
    "\n",
    "    model = Model(top_grams, cnvt, rmPunc, use_tf_idf, TF_IDF)\n",
    "    \n",
    "    trainX = model.get_feature(trainCorpus)\n",
    "    valX = model.get_feature(valCorpus)\n",
    "    testX = model.get_feature(testCorpus)\n",
    "    print_time(startTime)\n",
    "\n",
    "    model.train(trainX, trainY)\n",
    "    model.validation(valX, valY)\n",
    "    mse = model.test(testX, testY)\n",
    "    print_time(startTime)\n",
    "\n",
    "    print('Best Lambda: %f' % model.best_lamda)\n",
    "    print('MSE: %f\\n' % mse)\n",
    "    return mse, model.best_lamda"
   ]
  },
  {
   "cell_type": "code",
   "execution_count": null,
   "metadata": {},
   "outputs": [],
   "source": [
    "p1 = pipeline(unigrams, text2unigram, rmPunc=True, use_tf_idf=True)\n",
    "# p2 = pipeline(bigrams, text2bigrams, rmPunc=True, use_tf_idf=True)\n",
    "\n",
    "# p3 = pipeline(unigrams, text2unigram, rmPunc=False, use_tf_idf=True)\n",
    "# p4 = pipeline(bigrams, text2bigrams, rmPunc=False, use_tf_idf=True)\n",
    "\n",
    "# p5 = pipeline(unigrams, text2unigram, rmPunc=True, use_tf_idf=False)\n",
    "# p6 = pipeline(bigrams, text2bigrams, rmPunc=True, use_tf_idf=False)\n",
    "\n",
    "# p7 = pipeline(unigrams, text2unigram, rmPunc=False, use_tf_idf=False)\n",
    "# p8 = pipeline(bigrams, text2bigrams, rmPunc=False, use_tf_idf=False)"
   ]
  },
  {
   "cell_type": "code",
   "execution_count": null,
   "metadata": {},
   "outputs": [],
   "source": [
    "res = [p1, p2, p3, p4, p5, p6, p7, p8]\n",
    "\n",
    "model_desc = []\n",
    "model_desc.append('Unigrams, Remove, tfidf')\n",
    "model_desc.append('Bigrams, Remove, tfidf')\n",
    "model_desc.append('Unigrams, Perserve, tfidf')\n",
    "model_desc.append('Bigrams, Perserve, tfidf')\n",
    "model_desc.append('Unigrams, Remove, word counts')\n",
    "model_desc.append('Bigrams, Remove, word counts')\n",
    "model_desc.append('Unigrams, Perserve, word counts')\n",
    "model_desc.append('Bigrams, Perserve, word counts')\n",
    "\n",
    "print \"{:<30} {:<8} {:<8}\".format('model desc','mse','lambda')\n",
    "for m, r in zip(model_desc, res)\n",
    "    print \"{:<30} {:<8} {:<8}\".format(k, r[0], r[1])"
   ]
  }
 ],
 "metadata": {
  "kernelspec": {
   "display_name": "Python 3",
   "language": "python",
   "name": "python3"
  },
  "language_info": {
   "codemirror_mode": {
    "name": "ipython",
    "version": 3
   },
   "file_extension": ".py",
   "mimetype": "text/x-python",
   "name": "python",
   "nbconvert_exporter": "python",
   "pygments_lexer": "ipython3",
   "version": "3.5.2"
  }
 },
 "nbformat": 4,
 "nbformat_minor": 2
}
