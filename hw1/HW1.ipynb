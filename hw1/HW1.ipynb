{
 "cells": [
  {
   "cell_type": "code",
   "execution_count": 9,
   "metadata": {},
   "outputs": [],
   "source": [
    "import urllib\n",
    "import numpy as np\n",
    "from sklearn.svm import LinearSVC"
   ]
  },
  {
   "cell_type": "markdown",
   "metadata": {},
   "source": [
    "# Regression"
   ]
  },
  {
   "cell_type": "code",
   "execution_count": 2,
   "metadata": {},
   "outputs": [
    {
     "data": {
      "text/plain": [
       "{1.0: 211,\n",
       " 1.5: 343,\n",
       " 2.0: 1099,\n",
       " 2.5: 1624,\n",
       " 3.0: 4137,\n",
       " 3.5: 8797,\n",
       " 4.0: 16575,\n",
       " 4.5: 12883,\n",
       " 5.0: 4331}"
      ]
     },
     "execution_count": 2,
     "metadata": {},
     "output_type": "execute_result"
    }
   ],
   "source": [
    "def parseData(fname):\n",
    "    for l in urllib.request.urlopen(fname):\n",
    "        yield eval(l)\n",
    "        \n",
    "data = list(parseData(\"http://jmcauley.ucsd.edu/cse255/data/beer/beer_50000.json\"))\n",
    "\n",
    "reviews = {}\n",
    "for d in data:\n",
    "    reviews[d['review/taste']] = reviews.get(d['review/taste'], 0) + 1\n",
    "\n",
    "reviews"
   ]
  },
  {
   "cell_type": "code",
   "execution_count": 69,
   "metadata": {},
   "outputs": [
    {
     "data": {
      "text/plain": [
       "array([[ 3.11795084],\n",
       "       [-0.05637406],\n",
       "       [ 0.10877902]])"
      ]
     },
     "execution_count": 69,
     "metadata": {},
     "output_type": "execute_result"
    }
   ],
   "source": [
    "feature1 = [d['beer/style']=='Hefeweizen' for d in data]\n",
    "feature2 = [d['beer/ABV'] for d in data]\n",
    "target = [d['review/taste'] for d in data]\n",
    "\n",
    "X = np.stack((np.ones(len(data)), feature1, feature2), -1)\n",
    "Y = np.array(target).reshape(-1, 1)\n",
    "\n",
    "theta,residuals,rank,s = np.linalg.lstsq(X, Y, rcond=None)\n",
    "theta\n",
    "\n",
    "# Theta0 represents bias, theta1 and theta2 represent how much weight 'beer are a Hefeweizen'\n",
    "# and 'beer/ABV' contribute to taste prediction."
   ]
  },
  {
   "cell_type": "code",
   "execution_count": 70,
   "metadata": {},
   "outputs": [
    {
     "name": "stdout",
     "output_type": "stream",
     "text": [
      "Train MSE: 0.483968 Test MSE: 0.423707\n"
     ]
    }
   ],
   "source": [
    "def split_data(X, Y, holdout_ratio, shuffle=False):\n",
    "    m = X.shape[0]\n",
    "    m_holdout = int(m * holdout_ratio)\n",
    "    \n",
    "    if shuffle:\n",
    "        permutation = np.random.permutation(m)\n",
    "        X = X[permutation, :]\n",
    "        Y = Y[permutation, :]\n",
    "        \n",
    "    return X[:-m_holdout, :], Y[:-m_holdout, :], X[-m_holdout:, :], Y[-m_holdout:, :]\n",
    "\n",
    "X_train, y_train, X_test, y_test = split_data(X, Y, 0.5)\n",
    "theta,residuals,rank,s = np.linalg.lstsq(X_train, y_train, rcond=None)\n",
    "\n",
    "mse_train = np.mean((np.dot(X_train, theta) - y_train)**2)\n",
    "mse_test = np.mean((np.dot(X_test, theta) - y_test)**2)\n",
    "\n",
    "print('Train MSE: %f Test MSE: %f' % (mse_train, mse_test))"
   ]
  },
  {
   "cell_type": "code",
   "execution_count": 71,
   "metadata": {},
   "outputs": [
    {
     "name": "stdout",
     "output_type": "stream",
     "text": [
      "Train MSE: 0.445259 Test MSE: 0.454139\n"
     ]
    }
   ],
   "source": [
    "X_train, y_train, X_test, y_test = split_data(X, Y, 0.5, shuffle=True)\n",
    "theta,residuals,rank,s = np.linalg.lstsq(X_train, y_train, rcond=None)\n",
    "\n",
    "mse_train = np.mean((np.dot(X_train, theta) - y_train)**2)\n",
    "mse_test = np.mean((np.dot(X_test, theta) - y_test)**2)\n",
    "\n",
    "print('Train MSE: %f Test MSE: %f' % (mse_train, mse_test))"
   ]
  },
  {
   "cell_type": "code",
   "execution_count": 72,
   "metadata": {},
   "outputs": [
    {
     "name": "stdout",
     "output_type": "stream",
     "text": [
      "Train MSE: 0.557194 Test MSE: 0.468239\n"
     ]
    }
   ],
   "source": [
    "feature1 = [d['beer/style']=='Hefeweizen' for d in data]\n",
    "feature2 = [d['beer/style']!='Hefeweizen' for d in data]\n",
    "X = np.stack((np.ones(len(data)), feature1, feature2), -1)\n",
    "\n",
    "X_train, y_train, X_test, y_test = split_data(X, Y, 0.5)\n",
    "theta,residuals,rank,s = np.linalg.lstsq(X_train, y_train, rcond=None)\n",
    "\n",
    "mse_train = np.mean((np.dot(X_train, theta) - y_train)**2)\n",
    "mse_test = np.mean((np.dot(X_test, theta) - y_test)**2)\n",
    "\n",
    "print('Train MSE: %f Test MSE: %f' % (mse_train, mse_test))"
   ]
  },
  {
   "cell_type": "markdown",
   "metadata": {},
   "source": [
    "In Q5 model, both features are highly correlated. However, in Q2-4 model, 2 features are unique, thus providing more information for taste prediction."
   ]
  },
  {
   "cell_type": "markdown",
   "metadata": {},
   "source": [
    "# Classification"
   ]
  },
  {
   "cell_type": "code",
   "execution_count": 170,
   "metadata": {},
   "outputs": [
    {
     "name": "stdout",
     "output_type": "stream",
     "text": [
      "Train accuracy: 0.987440 Test accuracy: 0.987840\n"
     ]
    },
    {
     "name": "stderr",
     "output_type": "stream",
     "text": [
      "/home/fanjin/.local/lib/python3.5/site-packages/sklearn/svm/base.py:922: ConvergenceWarning: Liblinear failed to converge, increase the number of iterations.\n",
      "  \"the number of iterations.\", ConvergenceWarning)\n"
     ]
    }
   ],
   "source": [
    "feature1 = [d['review/taste'] for d in data]\n",
    "feature2 = [d['review/appearance'] for d in data]\n",
    "feature3 = [d['review/aroma'] for d in data]\n",
    "feature4 = [d['review/palate'] for d in data]\n",
    "feature5 = [d['review/overall'] for d in data]\n",
    "target = [d['beer/style'] == 'Hefeweizen' for d in data]\n",
    "\n",
    "X = np.stack((np.ones(len(data)), feature1, feature2, feature3, feature4, feature5), -1)\n",
    "Y = np.array(target, dtype=np.int).reshape(-1, 1)\n",
    "\n",
    "X_train, y_train, X_test, y_test = split_data(X, Y, 0.5, shuffle=True)\n",
    "\n",
    "clf = LinearSVC(C=1000)\n",
    "clf.fit(X_train, y_train.reshape(-1))\n",
    "\n",
    "train_predictions = clf.predict(X_train)\n",
    "test_predictions = clf.predict(X_test)\n",
    "\n",
    "train_accuracy = np.sum(train_predictions.reshape(-1, 1) == y_train) / len(y_train)\n",
    "test_accuracy = np.sum(test_predictions.reshape(-1, 1) == y_test) / len(y_test)\n",
    "print('Train accuracy: %f Test accuracy: %f' % (train_accuracy, test_accuracy))"
   ]
  },
  {
   "cell_type": "code",
   "execution_count": 229,
   "metadata": {},
   "outputs": [
    {
     "data": {
      "text/plain": [
       "['banana', 'wheat', 'clove', 'hefe', 'lemon', 'hefeweizen']"
      ]
     },
     "execution_count": 229,
     "metadata": {},
     "output_type": "execute_result"
    }
   ],
   "source": [
    "text_hef = [d['review/text'] for d in data if d['beer/style'] == 'Hefeweizen']\n",
    "text_non_hef = [d['review/text'] for d in data if d['beer/style'] != 'Hefeweizen']\n",
    "\n",
    "import re\n",
    "import nltk\n",
    "from nltk.corpus import stopwords\n",
    "\n",
    "# nltk.download('stopwords', download_dir='.')\n",
    "nltk.data.path.append(\".\");\n",
    "\n",
    "def createCorpus(text):\n",
    "    corpus = {}\n",
    "    for t in text:\n",
    "        words = re.findall(r'[^\\s()!,.?\":;0-9]+', t.lower())\n",
    "        for w in set(words):\n",
    "            corpus[w] = corpus.get(w, 0) + 1\n",
    "\n",
    "    remove = [k for k in corpus.keys() if k in stopwords.words('english')]\n",
    "    for k in remove: del corpus[k]\n",
    "    return corpus\n",
    "\n",
    "hef_corpus = createCorpus(text_hef)\n",
    "nonhef_corpus = createCorpus(text_non_hef)\n",
    "\n",
    "hef_top_words = [w[0] for w in sorted(hef_corpus.items(), key=lambda x: x[1], reverse=True)[:50]]\n",
    "nonhef_top_words = [w[0] for w in sorted(nonhef_corpus.items(), key=lambda x: x[1], reverse=True)[:300]]\n",
    "\n",
    "token = [w for w in hef_top_words if w not in nonhef_top_words]\n",
    "token"
   ]
  },
  {
   "cell_type": "code",
   "execution_count": 224,
   "metadata": {},
   "outputs": [],
   "source": [
    "def hasToken(text):\n",
    "    words = re.findall(r'[^\\s()!,.?\":;0-9]+', text.lower())\n",
    "    cnt = 0\n",
    "    for w in set(words):\n",
    "        if w in token:\n",
    "            cnt += 1\n",
    "    return cnt\n",
    "\n",
    "feature6 = [hasToken(d['review/text']) for d in data]"
   ]
  },
  {
   "cell_type": "code",
   "execution_count": 228,
   "metadata": {},
   "outputs": [
    {
     "name": "stdout",
     "output_type": "stream",
     "text": [
      "Train accuracy: 0.991400 Test accuracy: 0.991480\n"
     ]
    },
    {
     "name": "stderr",
     "output_type": "stream",
     "text": [
      "/home/fanjin/.local/lib/python3.5/site-packages/sklearn/svm/base.py:922: ConvergenceWarning: Liblinear failed to converge, increase the number of iterations.\n",
      "  \"the number of iterations.\", ConvergenceWarning)\n"
     ]
    }
   ],
   "source": [
    "X = np.stack((np.ones(len(data)), feature1, feature2, feature3, feature4, feature5, feature6), -1)\n",
    "Y = np.array(target, dtype=np.int).reshape(-1, 1)\n",
    "\n",
    "X_train, y_train, X_test, y_test = split_data(X, Y, 0.5, shuffle=True)\n",
    "\n",
    "clf = LinearSVC(C=1000)\n",
    "clf.fit(X_train, y_train.reshape(-1))\n",
    "\n",
    "train_accuracy = clf.score(X_train, y_train)\n",
    "test_accuracy = clf.score(X_test, y_test)\n",
    "print('Train accuracy: %f Test accuracy: %f' % (train_accuracy, test_accuracy))"
   ]
  },
  {
   "cell_type": "code",
   "execution_count": 226,
   "metadata": {},
   "outputs": [
    {
     "data": {
      "text/plain": [
       "['banana', 'wheat', 'clove', 'hefe', 'lemon', 'hefeweizen']"
      ]
     },
     "execution_count": 226,
     "metadata": {},
     "output_type": "execute_result"
    }
   ],
   "source": []
  },
  {
   "cell_type": "code",
   "execution_count": null,
   "metadata": {},
   "outputs": [],
   "source": []
  }
 ],
 "metadata": {
  "kernelspec": {
   "display_name": "Python 3",
   "language": "python",
   "name": "python3"
  },
  "language_info": {
   "codemirror_mode": {
    "name": "ipython",
    "version": 3
   },
   "file_extension": ".py",
   "mimetype": "text/x-python",
   "name": "python",
   "nbconvert_exporter": "python",
   "pygments_lexer": "ipython3",
   "version": "3.5.2"
  }
 },
 "nbformat": 4,
 "nbformat_minor": 2
}
