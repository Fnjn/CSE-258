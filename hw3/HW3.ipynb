{
 "cells": [
  {
   "cell_type": "code",
   "execution_count": 1,
   "metadata": {
    "scrolled": false
   },
   "outputs": [],
   "source": [
    "import numpy as np\n",
    "\n",
    "%load_ext autoreload\n",
    "%autoreload 2\n",
    "import my_baselines"
   ]
  },
  {
   "cell_type": "markdown",
   "metadata": {},
   "source": [
    "# Purchase prediction"
   ]
  },
  {
   "cell_type": "code",
   "execution_count": 2,
   "metadata": {},
   "outputs": [],
   "source": [
    "with open('train.json') as f:\n",
    "    data = f.readlines()\n",
    "\n",
    "import ast\n",
    "data = [ast.literal_eval(x) for x in data]\n",
    "# data[0]"
   ]
  },
  {
   "cell_type": "code",
   "execution_count": 3,
   "metadata": {},
   "outputs": [],
   "source": [
    "##########################\n",
    "# 1\n",
    "##########################\n",
    "\n",
    "trainX, valX = data[:100000], data[100000:]\n",
    "\n",
    "reviewer_item_pair = {}\n",
    "reviewer_list = []\n",
    "item_list = []\n",
    "\n",
    "for d in data:\n",
    "    reviewer = d['reviewerID']\n",
    "    item = d['itemID']\n",
    "    pair = reviewer_item_pair.get(reviewer, [])\n",
    "    pair.append(item)\n",
    "    reviewer_item_pair[reviewer] = pair\n",
    "    reviewer_list.append(reviewer)\n",
    "    item_list.append(item)\n",
    "    \n",
    "import random\n",
    "cnt = 0\n",
    "neg_pair = []\n",
    "\n",
    "while(cnt < 100000):\n",
    "    reviewer = random.choice(reviewer_list)\n",
    "    item = random.choice(item_list)\n",
    "    if item not in reviewer_item_pair[reviewer]:\n",
    "        neg_pair.append((reviewer, item))\n",
    "        cnt += 1    \n",
    "        \n",
    "new_valX = []\n",
    "new_valY = []\n",
    "\n",
    "for d in valX:\n",
    "    new_valX.append((d['reviewerID'], d['itemID']))\n",
    "    new_valY.append(1)\n",
    "\n",
    "new_valX += neg_pair\n",
    "new_valY += len(neg_pair) * [0]"
   ]
  },
  {
   "cell_type": "code",
   "execution_count": 4,
   "metadata": {},
   "outputs": [
    {
     "name": "stdout",
     "output_type": "stream",
     "text": [
      "Accuracy of Prof's baseline model: 0.499225\n"
     ]
    }
   ],
   "source": [
    "def EvaluationPurchase(purchasePrediction, X, Y):\n",
    "    acc = 0\n",
    "    for (u, i), y in zip(X, Y):\n",
    "        purchase = purchasePrediction(u, i)\n",
    "        acc += int(y == purchase)\n",
    "    return acc / len(X)\n",
    "\n",
    "acc = EvaluationPurchase(my_baselines.ProfPurchasePrediction, new_valX, new_valY)\n",
    "print(\"Accuracy of Prof's baseline model: %f\" % acc)"
   ]
  },
  {
   "cell_type": "code",
   "execution_count": 5,
   "metadata": {},
   "outputs": [
    {
     "name": "stdout",
     "output_type": "stream",
     "text": [
      "Accuracy of top 50% popularity model: 0.499645\n",
      "Accuracy of top 30% popularity model: 0.498575\n"
     ]
    }
   ],
   "source": [
    "##########################\n",
    "# 2\n",
    "##########################\n",
    "item_popularity = {}\n",
    "\n",
    "for d in data:\n",
    "    item = d['itemID']\n",
    "    p = item_popularity.get(item, 0)\n",
    "    item_popularity[item] = p + 1\n",
    "\n",
    "item_popularity_rank = sorted(item_popularity.items(), key=lambda x: x[1], reverse=True)\n",
    "item_rank = {x[0]:rank for rank, x in enumerate(item_popularity_rank)}\n",
    "\n",
    "def p2(u, i):\n",
    "    try:\n",
    "        rank = item_rank[i]\n",
    "    except KeyError:\n",
    "        return 0\n",
    "    if rank < len(item_rank) * threshold:\n",
    "        return 1\n",
    "    else:\n",
    "        return 0\n",
    "\n",
    "# my_baselines.purchaseBaseline(p2)  \n",
    "threshold = 0.5\n",
    "acc = EvaluationPurchase(p2, new_valX, new_valY)\n",
    "print(\"Accuracy of top 50%% popularity model: %f\" % acc)\n",
    "\n",
    "threshold = 0.3\n",
    "acc = EvaluationPurchase(p2, new_valX, new_valY)\n",
    "print(\"Accuracy of top 30%% popularity model: %f\" % acc)\n",
    "\n",
    "# Using top 30th percentile of popularity is better.\n",
    "# Large majority of purchases are within top 30% popularity items."
   ]
  },
  {
   "cell_type": "code",
   "execution_count": 8,
   "metadata": {},
   "outputs": [
    {
     "name": "stdout",
     "output_type": "stream",
     "text": [
      "Accuracy of repeat purchase model: 0.889675\n"
     ]
    }
   ],
   "source": [
    "##########################\n",
    "# 3\n",
    "##########################\n",
    "reviewer_cat_pair = {}\n",
    "item_cat_pair = {}\n",
    "\n",
    "for d in data:\n",
    "    reviewer = d['reviewerID']\n",
    "    item = d['itemID']\n",
    "    cat = d['categories']\n",
    "    \n",
    "    reviewer_pair = reviewer_cat_pair.get(reviewer, [])\n",
    "    item_pair = item_cat_pair.get(item, [])\n",
    "    for c in cat:\n",
    "        if c not in reviewer_pair:\n",
    "            reviewer_pair.append(c)\n",
    "        if c not in item_pair:\n",
    "            item_pair.append(c)\n",
    "        \n",
    "    reviewer_cat_pair[reviewer] = reviewer_pair\n",
    "    item_cat_pair[item] = item_pair\n",
    "    \n",
    "def p3(u, i):\n",
    "    try:\n",
    "        reviewer_pair = reviewer_cat_pair[u]\n",
    "        item_pair = item_cat_pair[i]\n",
    "    except KeyError:\n",
    "        return 0\n",
    "    \n",
    "    for i in item_pair:\n",
    "        if i in reviewer_pair: return 1\n",
    "    return 0\n",
    "\n",
    "# my_baselines.purchaseBaseline(p3)\n",
    "acc = EvaluationPurchase(p3, new_valX, new_valY)\n",
    "print(\"Accuracy of repeat purchase model: %f\" % acc)"
   ]
  },
  {
   "cell_type": "code",
   "execution_count": 7,
   "metadata": {},
   "outputs": [],
   "source": [
    "def p3(u, i):\n",
    "    try:\n",
    "        reviewer_pair = reviewer_cat_pair[u]\n",
    "        item_pair = item_cat_pair[i]\n",
    "    except KeyError:\n",
    "        return 0\n",
    "    \n",
    "    for i in item_pair:\n",
    "        if i in reviewer_pair: return 1\n",
    "    return 0"
   ]
  },
  {
   "cell_type": "code",
   "execution_count": 7,
   "metadata": {},
   "outputs": [
    {
     "data": {
      "text/plain": [
       "'Fanjin'"
      ]
     },
     "execution_count": 7,
     "metadata": {},
     "output_type": "execute_result"
    }
   ],
   "source": [
    "##########################\n",
    "# 4\n",
    "##########################\n",
    "kaggle_username = 'Fanjin'\n",
    "kaggle_username"
   ]
  },
  {
   "cell_type": "markdown",
   "metadata": {},
   "source": [
    "# Rating prediction"
   ]
  },
  {
   "cell_type": "code",
   "execution_count": 8,
   "metadata": {},
   "outputs": [],
   "source": [
    "new_valX = [(d['reviewerID'], d['itemID']) for d in valX]\n",
    "new_valY = [d['rating'] for d in valX]"
   ]
  },
  {
   "cell_type": "code",
   "execution_count": 9,
   "metadata": {},
   "outputs": [
    {
     "name": "stdout",
     "output_type": "stream",
     "text": [
      "The value of Alpha: 4.232000\n"
     ]
    }
   ],
   "source": [
    "##########################\n",
    "# 5\n",
    "##########################\n",
    "alpha = 0.\n",
    "for d in trainX:\n",
    "    alpha += d['rating']\n",
    "alpha /= len(trainX)\n",
    "\n",
    "\n",
    "def p5(u, i):\n",
    "    return alpha\n",
    "\n",
    "# my_baselines.ratingBaseline(p5)\n",
    "print('The value of Alpha: %f' % alpha)"
   ]
  },
  {
   "cell_type": "code",
   "execution_count": 10,
   "metadata": {},
   "outputs": [],
   "source": [
    "##########################\n",
    "# 6\n",
    "##########################\n",
    "\n",
    "\n",
    "def p6_init(trainX):\n",
    "    alpha = 0.\n",
    "    beta_user = {}\n",
    "    beta_item = {}\n",
    "\n",
    "    for d in trainX:\n",
    "        reviewer = d['reviewerID']\n",
    "        item = d['itemID']\n",
    "        rating = d['rating']\n",
    "\n",
    "        bu = beta_user.get(reviewer, (0., 0))\n",
    "        bi = beta_item.get(item, (0., 0))\n",
    "\n",
    "        bu = (bu[0]+rating, bu[1]+1)\n",
    "        bi = (bi[0]+rating, bi[1]+1)\n",
    "\n",
    "        alpha += rating\n",
    "        beta_user[reviewer] = bu\n",
    "        beta_item[item] = bi\n",
    "\n",
    "    alpha /= len(trainX)\n",
    "    beta_user = {r:(b[0]/b[1] - alpha) for r,b in beta_user.items()}\n",
    "    beta_item = {r:(b[0]/b[1] - alpha) for r,b in beta_item.items()}\n",
    "    return alpha, beta_user, beta_item\n",
    "\n",
    "def p6_iterative(alpha, beta_user, beta_item, lam, trainX, n_iter):\n",
    "    for _ in range(n_iter):\n",
    "        alpha, beta_user, beta_item = p6_update(alpha, beta_user, beta_item, lam, trainX)\n",
    "        \n",
    "    return alpha, beta_user, beta_item\n",
    "\n",
    "def p6_update(alpha, beta_user, beta_item, lam, trainX):\n",
    "    beta_user_update = {}\n",
    "    beta_item_update = {}\n",
    "    alpha_t = 0.\n",
    "    cnt = 0\n",
    "\n",
    "    for d in trainX:\n",
    "        u = d['reviewerID']\n",
    "        i = d['itemID']\n",
    "        rating = d['rating']\n",
    "\n",
    "        bu = beta_user.get(u, 0.)\n",
    "        bi = beta_item.get(i, 0.)\n",
    "\n",
    "        bu_t = beta_user_update.get(u, (0., 0))\n",
    "        bi_t = beta_item_update.get(i, (0., 0))\n",
    "\n",
    "        alpha_t += rating - (bu + bi)\n",
    "        cnt += 1\n",
    "        bu_t = (bu_t[0]+(rating - (alpha + bi)), bu_t[1]+1)\n",
    "        bi_t = (bi_t[0]+(rating - (alpha + bu)), bi_t[1]+1)\n",
    "\n",
    "        beta_user_update[u] = bu_t\n",
    "        beta_item_update[i] = bi_t\n",
    "\n",
    "    alpha_t /= len(trainX)\n",
    "    beta_user_update = {r:(b[0]/(b[1]+lam)) for r,b in beta_user_update.items()}\n",
    "    beta_item_update = {r:(b[0]/(b[1]+lam)) for r,b in beta_item_update.items()}\n",
    "    \n",
    "    return alpha_t, beta_user_update, beta_item_update"
   ]
  },
  {
   "cell_type": "code",
   "execution_count": 11,
   "metadata": {},
   "outputs": [
    {
     "name": "stdout",
     "output_type": "stream",
     "text": [
      "MSE Problem 6 model: 1.247006\n"
     ]
    }
   ],
   "source": [
    "def p6_train(lam, n_iter, trainX):\n",
    "    alpha, beta_user, beta_item = p6_init(trainX)\n",
    "    alpha, beta_user, beta_item = p6_iterative(alpha, beta_user, beta_item, lam, trainX, n_iter)\n",
    "    return alpha, beta_user, beta_item\n",
    "    \n",
    "def p6(u, i):\n",
    "    bu = beta_user.get(u, 0.)\n",
    "    bi = beta_item.get(i, 0.)\n",
    "    return alpha + bu + bi\n",
    "\n",
    "def EvaluationRating(ratingPrediction, X, Y):\n",
    "    mse = 0.\n",
    "    for (u, i), y in zip(X, Y):\n",
    "        rating = ratingPrediction(u, i)\n",
    "        mse += (y - rating) ** 2\n",
    "    return mse / len(X)\n",
    "\n",
    "lam = 1\n",
    "alpha, beta_user, beta_item = p6_train(lam, 1, trainX)\n",
    "\n",
    "\n",
    "# my_baselines.ratingBaseline(p6)\n",
    "mse = EvaluationRating(p6, new_valX, new_valY)\n",
    "print(\"MSE Problem 6 model: %f\" % mse)"
   ]
  },
  {
   "cell_type": "code",
   "execution_count": 12,
   "metadata": {},
   "outputs": [
    {
     "name": "stdout",
     "output_type": "stream",
     "text": [
      "Largest beta\n",
      "User# U605818049\n",
      "Item# I262560051\n",
      "Smallest beta\n",
      "User# U204516481\n",
      "Item# I444377179\n"
     ]
    }
   ],
   "source": [
    "##########################\n",
    "# 7\n",
    "##########################\n",
    "\n",
    "beta_user_rank = sorted(beta_user.items(), key=lambda x: x[1])\n",
    "beta_item_rank = sorted(beta_item.items(), key=lambda x: x[1])\n",
    "\n",
    "print('Largest beta')\n",
    "print('User# ' + beta_user_rank[-1][0])\n",
    "print('Item# ' + beta_item_rank[-1][0])\n",
    "\n",
    "print('Smallest beta')\n",
    "print('User# ' + beta_user_rank[0][0])\n",
    "print('Item# ' + beta_item_rank[0][0])"
   ]
  },
  {
   "cell_type": "code",
   "execution_count": 13,
   "metadata": {},
   "outputs": [
    {
     "name": "stdout",
     "output_type": "stream",
     "text": [
      "Best lambda is: 5.000000, Its MSE: 1.139957\n"
     ]
    }
   ],
   "source": [
    "##########################\n",
    "# 8\n",
    "##########################\n",
    "\n",
    "lmbda = [0.01, 0.1, 1, 2, 5, 10]\n",
    "best_mse = float('Inf')\n",
    "best_lam = None\n",
    "\n",
    "for lam in lmbda:\n",
    "    alpha, beta_user, beta_item = p6_train(lam, 5,trainX)\n",
    "    mse = EvaluationRating(p6, new_valX, new_valY)\n",
    "    \n",
    "    if mse <= best_mse:\n",
    "        best_mse = mse\n",
    "        best_lam = lam\n",
    "\n",
    "print('Best lambda is: %f, Its MSE: %f' % (best_lam, best_mse))"
   ]
  },
  {
   "cell_type": "code",
   "execution_count": null,
   "metadata": {},
   "outputs": [],
   "source": []
  }
 ],
 "metadata": {
  "kernelspec": {
   "display_name": "Python 3",
   "language": "python",
   "name": "python3"
  },
  "language_info": {
   "codemirror_mode": {
    "name": "ipython",
    "version": 3
   },
   "file_extension": ".py",
   "mimetype": "text/x-python",
   "name": "python",
   "nbconvert_exporter": "python",
   "pygments_lexer": "ipython3",
   "version": "3.5.2"
  }
 },
 "nbformat": 4,
 "nbformat_minor": 2
}
