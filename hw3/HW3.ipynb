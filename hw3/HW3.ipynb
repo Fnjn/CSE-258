{
 "cells": [
  {
   "cell_type": "code",
   "execution_count": 1,
   "metadata": {
    "scrolled": false
   },
   "outputs": [],
   "source": [
    "import numpy as np\n",
    "\n",
    "%load_ext autoreload\n",
    "%autoreload 2\n",
    "import my_baselines"
   ]
  },
  {
   "cell_type": "markdown",
   "metadata": {},
   "source": [
    "# Purchase prediction"
   ]
  },
  {
   "cell_type": "code",
   "execution_count": 2,
   "metadata": {},
   "outputs": [
    {
     "data": {
      "text/plain": [
       "{'categories': [['Clothing, Shoes & Jewelry', 'Women'],\n",
       "  ['Clothing, Shoes & Jewelry',\n",
       "   'Novelty, Costumes & More',\n",
       "   'Novelty',\n",
       "   'Clothing',\n",
       "   'Women',\n",
       "   'Leggings']],\n",
       " 'categoryID': 0,\n",
       " 'helpful': {'nHelpful': 0, 'outOf': 0},\n",
       " 'itemID': 'I402344648',\n",
       " 'rating': 4.0,\n",
       " 'reviewHash': 'R798569390',\n",
       " 'reviewText': \"The model in this picture has them rolled up at the top because they are actually very high waisted! that's my only complaint though, because they are very good quality, and fit really well! I am 5'2&#34; 120lbs with thick thighs and i love them i can't wait to wear them out!\",\n",
       " 'reviewTime': '09 26, 2013',\n",
       " 'reviewerID': 'U490934656',\n",
       " 'summary': 'High Waisted',\n",
       " 'unixReviewTime': 1380153600}"
      ]
     },
     "execution_count": 2,
     "metadata": {},
     "output_type": "execute_result"
    }
   ],
   "source": [
    "with open('train.json') as f:\n",
    "    data = f.readlines()\n",
    "\n",
    "import ast\n",
    "data = [ast.literal_eval(x) for x in data]\n",
    "data[0]"
   ]
  },
  {
   "cell_type": "code",
   "execution_count": 3,
   "metadata": {},
   "outputs": [],
   "source": [
    "##########################\n",
    "# 2\n",
    "##########################\n",
    "\n",
    "trainX, valX = data[:100000], data[100000:]\n",
    "\n",
    "reviewer_item_pair = {}\n",
    "reviewer_list = []\n",
    "item_list = []\n",
    "\n",
    "for d in data:\n",
    "    reviewer = d['reviewerID']\n",
    "    item = d['itemID']\n",
    "    pair = reviewer_item_pair.get(reviewer, [])\n",
    "    pair.append(item)\n",
    "    reviewer_item_pair[reviewer] = pair\n",
    "    reviewer_list.append(reviewer)\n",
    "    item_list.append(item)\n",
    "    \n",
    "import random\n",
    "cnt = 0\n",
    "neg_pair = []\n",
    "\n",
    "while(cnt < 100000):\n",
    "    reviewer = random.choice(reviewer_list)\n",
    "    item = random.choice(item_list)\n",
    "    if item not in reviewer_item_pair[reviewer]:\n",
    "        neg_pair.append((reviewer, item))\n",
    "        cnt += 1    \n",
    "        \n",
    "new_valX = []\n",
    "new_valY = []\n",
    "\n",
    "for d in valX:\n",
    "    new_valX.append((d['reviewerID'], d['itemID']))\n",
    "    new_valY.append(1)\n",
    "\n",
    "new_valX += neg_pair\n",
    "new_valY += len(neg_pair) * [0]"
   ]
  },
  {
   "cell_type": "code",
   "execution_count": 4,
   "metadata": {},
   "outputs": [],
   "source": [
    "##########################\n",
    "# 2\n",
    "##########################\n",
    "item_popularity = {}\n",
    "\n",
    "for d in data:\n",
    "    item = d['itemID']\n",
    "    p = item_popularity.get(item, 0)\n",
    "    item_popularity[item] = p + 1\n",
    "\n",
    "item_popularity_rank = sorted(item_popularity.items(), key=lambda x: x[1], reverse=True)\n",
    "item_rank = {x[0]:rank for rank, x in enumerate(item_popularity_rank)}\n",
    "\n",
    "def p2(u, i):\n",
    "    try:\n",
    "        rank = item_rank[i]\n",
    "    except KeyError:\n",
    "        return 0\n",
    "    if rank < len(item_rank):\n",
    "        return 1\n",
    "    else:\n",
    "        return 0\n",
    "\n",
    "my_baselines.purchaseBaseline(p2)  "
   ]
  },
  {
   "cell_type": "code",
   "execution_count": 5,
   "metadata": {},
   "outputs": [],
   "source": [
    "##########################\n",
    "# 3\n",
    "##########################\n",
    "reviewer_cat_pair = {}\n",
    "item_cat_pair = {}\n",
    "\n",
    "for d in data:\n",
    "    reviewer = d['reviewerID']\n",
    "    item = d['itemID']\n",
    "    cat = d['categories']\n",
    "    \n",
    "    reviewer_pair = reviewer_cat_pair.get(reviewer, [])\n",
    "    item_pair = item_cat_pair.get(item, [])\n",
    "    for c in cat:\n",
    "        if c not in reviewer_pair:\n",
    "            reviewer_pair.append(c)\n",
    "        if c not in item_pair:\n",
    "            item_pair.append(c)\n",
    "        \n",
    "    reviewer_cat_pair[reviewer] = reviewer_pair\n",
    "    item_cat_pair[item] = item_pair\n",
    "    \n",
    "def p3(u, i):\n",
    "    try:\n",
    "        reviewer_pair = reviewer_cat_pair[u]\n",
    "        item_pair = item_cat_pair[i]\n",
    "    except KeyError:\n",
    "        return 0\n",
    "    \n",
    "    for i in item_pair:\n",
    "        if i in reviewer_pair: return 1\n",
    "    return 0\n",
    "\n",
    "my_baselines.purchaseBaseline(p3)"
   ]
  },
  {
   "cell_type": "code",
   "execution_count": 6,
   "metadata": {},
   "outputs": [
    {
     "data": {
      "text/plain": [
       "'fanjin'"
      ]
     },
     "execution_count": 6,
     "metadata": {},
     "output_type": "execute_result"
    }
   ],
   "source": [
    "##########################\n",
    "# 4\n",
    "##########################\n",
    "kaggle_username = 'Fanjin'\n",
    "kaggle_username"
   ]
  },
  {
   "cell_type": "markdown",
   "metadata": {},
   "source": [
    "# Rating prediction"
   ]
  },
  {
   "cell_type": "code",
   "execution_count": 13,
   "metadata": {},
   "outputs": [],
   "source": [
    "##########################\n",
    "# 5\n",
    "##########################\n",
    "alpha = 0.\n",
    "for d in trainX:\n",
    "    alpha += d['rating']\n",
    "alpha /= len(trainX)\n",
    "\n",
    "\n",
    "def p5(u, i):\n",
    "    return alpha\n",
    "\n",
    "# my_baselines.ratingBaseline(p5)"
   ]
  },
  {
   "cell_type": "code",
   "execution_count": 18,
   "metadata": {},
   "outputs": [],
   "source": [
    "##########################\n",
    "# 6\n",
    "##########################\n",
    "\n",
    "beta_user = {}\n",
    "beta_item = {}\n",
    "\n",
    "for d in trainX:\n",
    "    reviewer = d['reviewerID']\n",
    "    item = d['itemID']\n",
    "    rating = d['rating']\n",
    "    \n",
    "    bu = beta_user.get(reviewer, (0., 0))\n",
    "    bi = beta_item.get(item, (0., 0))\n",
    "    \n",
    "    bu = (bu[0]+rating, bu[1]+1)\n",
    "    bi = (bi[0]+rating, bi[1]+1)\n",
    "    \n",
    "    beta_user[reviewer] = bu\n",
    "    beta_item[item] = bi\n",
    "    \n",
    "beta_user = {r:(b[0]/b[1] - alpha) for r,b in beta_user.items()}\n",
    "beta_item = {r:(b[0]/b[1] - alpha) for r,b in beta_item.items()}\n",
    "\n",
    "def p6(u, i):\n",
    "    bu = beta_user.get(u, 0.)\n",
    "    bi = beta_item.get(i, 0.)\n",
    "    \n",
    "    return alpha + bu + bi\n",
    "\n",
    "# my_baselines.ratingBaseline(p6)"
   ]
  },
  {
   "cell_type": "code",
   "execution_count": 27,
   "metadata": {},
   "outputs": [
    {
     "name": "stdout",
     "output_type": "stream",
     "text": [
      "Largest beta\n",
      "User# U529851781\n",
      "Item# I917400017\n",
      "Smallest beta\n",
      "User# U757790423\n",
      "Item# I784810620\n"
     ]
    }
   ],
   "source": [
    "##########################\n",
    "# 7\n",
    "##########################\n",
    "\n",
    "beta_user_rank = sorted(beta_user.items(), key=lambda x: x[1])\n",
    "beta_item_rank = sorted(beta_item.items(), key=lambda x: x[1])\n",
    "\n",
    "print('Largest beta')\n",
    "print('User# ' + beta_user_rank[-1][0])\n",
    "print('Item# ' + beta_item_rank[-1][0])\n",
    "\n",
    "print('Smallest beta')\n",
    "print('User# ' + beta_user_rank[0][0])\n",
    "print('Item# ' + beta_item_rank[0][0])"
   ]
  },
  {
   "cell_type": "code",
   "execution_count": 10,
   "metadata": {},
   "outputs": [],
   "source": [
    "##########################\n",
    "# 8\n",
    "##########################\n",
    "\n",
    "lmbda = [0.01, 0.1, 1, 2, 5, 10]"
   ]
  },
  {
   "cell_type": "code",
   "execution_count": null,
   "metadata": {},
   "outputs": [],
   "source": []
  }
 ],
 "metadata": {
  "kernelspec": {
   "display_name": "Python 3",
   "language": "python",
   "name": "python3"
  },
  "language_info": {
   "codemirror_mode": {
    "name": "ipython",
    "version": 3
   },
   "file_extension": ".py",
   "mimetype": "text/x-python",
   "name": "python",
   "nbconvert_exporter": "python",
   "pygments_lexer": "ipython3",
   "version": "3.5.2"
  }
 },
 "nbformat": 4,
 "nbformat_minor": 2
}
