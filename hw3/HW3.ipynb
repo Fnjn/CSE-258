{
 "cells": [
  {
   "cell_type": "code",
   "execution_count": 142,
   "metadata": {
    "scrolled": false
   },
   "outputs": [
    {
     "name": "stdout",
     "output_type": "stream",
     "text": [
      "The autoreload extension is already loaded. To reload it, use:\n",
      "  %reload_ext autoreload\n"
     ]
    }
   ],
   "source": [
    "import numpy as np\n",
    "\n",
    "%load_ext autoreload\n",
    "%autoreload 2\n",
    "import my_baselines"
   ]
  },
  {
   "cell_type": "markdown",
   "metadata": {},
   "source": [
    "# Purchase prediction"
   ]
  },
  {
   "cell_type": "code",
   "execution_count": 94,
   "metadata": {},
   "outputs": [
    {
     "data": {
      "text/plain": [
       "({'categories': [['Clothing, Shoes & Jewelry', 'Women'],\n",
       "   ['Clothing, Shoes & Jewelry',\n",
       "    'Novelty, Costumes & More',\n",
       "    'Novelty',\n",
       "    'Clothing',\n",
       "    'Women',\n",
       "    'Leggings']],\n",
       "  'categoryID': 0,\n",
       "  'helpful': {'nHelpful': 0, 'outOf': 0},\n",
       "  'itemID': 'I402344648',\n",
       "  'rating': 4.0,\n",
       "  'reviewHash': 'R798569390',\n",
       "  'reviewText': \"The model in this picture has them rolled up at the top because they are actually very high waisted! that's my only complaint though, because they are very good quality, and fit really well! I am 5'2&#34; 120lbs with thick thighs and i love them i can't wait to wear them out!\",\n",
       "  'reviewTime': '09 26, 2013',\n",
       "  'reviewerID': 'U490934656',\n",
       "  'summary': 'High Waisted',\n",
       "  'unixReviewTime': 1380153600},\n",
       " 200000)"
      ]
     },
     "execution_count": 94,
     "metadata": {},
     "output_type": "execute_result"
    }
   ],
   "source": [
    "with open('train.json') as f:\n",
    "    data = f.readlines()\n",
    "\n",
    "import ast\n",
    "data = [ast.literal_eval(x) for x in data]\n",
    "data[0]"
   ]
  },
  {
   "cell_type": "code",
   "execution_count": 95,
   "metadata": {},
   "outputs": [
    {
     "data": {
      "text/plain": [
       "(100000, 100000)"
      ]
     },
     "execution_count": 95,
     "metadata": {},
     "output_type": "execute_result"
    }
   ],
   "source": [
    "trainX, valX = data[:100000], data[100000:]\n",
    "len(trainX), len(valX)"
   ]
  },
  {
   "cell_type": "code",
   "execution_count": 100,
   "metadata": {},
   "outputs": [],
   "source": [
    "reviewer_item_pair = {}\n",
    "reviewer_list = []\n",
    "item_list = []\n",
    "\n",
    "for d in data:\n",
    "    reviewer = d['reviewerID']\n",
    "    item = d['itemID']\n",
    "    pair = reviewer_item_pair.get(reviewer, [])\n",
    "    pair.append(item)\n",
    "    reviewer_item_pair[reviewer] = pair\n",
    "    reviewer_list.append(reviewer)\n",
    "    item_list.append(item)\n",
    "    "
   ]
  },
  {
   "cell_type": "code",
   "execution_count": 111,
   "metadata": {},
   "outputs": [],
   "source": [
    "import random\n",
    "cnt = 0\n",
    "neg_pair = []\n",
    "\n",
    "while(cnt < 100000):\n",
    "    reviewer = random.choice(reviewer_list)\n",
    "    item = random.choice(item_list)\n",
    "    if item not in reviewer_item_pair[reviewer]:\n",
    "        neg_pair.append((reviewer, item))\n",
    "        cnt += 1"
   ]
  },
  {
   "cell_type": "code",
   "execution_count": 113,
   "metadata": {},
   "outputs": [
    {
     "data": {
      "text/plain": [
       "(100000, ('U582106887', 'I145325374'))"
      ]
     },
     "execution_count": 113,
     "metadata": {},
     "output_type": "execute_result"
    }
   ],
   "source": [
    "len(neg_pair), neg_pair[0]"
   ]
  },
  {
   "cell_type": "code",
   "execution_count": 147,
   "metadata": {},
   "outputs": [],
   "source": [
    "##########################\n",
    "# 2\n",
    "##########################"
   ]
  },
  {
   "cell_type": "code",
   "execution_count": 148,
   "metadata": {},
   "outputs": [],
   "source": [
    "##########################\n",
    "# 3\n",
    "##########################\n",
    "reviewer_cat_pair = {}\n",
    "item_cat_pair = {}\n",
    "\n",
    "for d in data:\n",
    "    reviewer = d['reviewerID']\n",
    "    item = d['itemID']\n",
    "    cat = d['categories']\n",
    "    \n",
    "    reviewer_pair = reviewer_cat_pair.get(reviewer, [])\n",
    "    item_pair = item_cat_pair.get(item, [])\n",
    "    for c in cat:\n",
    "        if c not in reviewer_pair:\n",
    "            reviewer_pair.append(c)\n",
    "        if c not in item_pair:\n",
    "            item_pair.append(c)\n",
    "        \n",
    "    reviewer_cat_pair[reviewer] = reviewer_pair\n",
    "    item_cat_pair[item] = item_pair\n",
    "    \n",
    "def p3(u, i):\n",
    "    try:\n",
    "        reviewer_pair = reviewer_cat_pair[u]\n",
    "        item_pair = item_cat_pair[i]\n",
    "    except KeyError:\n",
    "        return 0\n",
    "    \n",
    "    for i in item_pair:\n",
    "        if i in reviewer_pair: return 1\n",
    "    return 0\n",
    "\n",
    "my_baselines.purchaseBaseline(p3)"
   ]
  },
  {
   "cell_type": "code",
   "execution_count": 146,
   "metadata": {},
   "outputs": [],
   "source": [
    "##########################\n",
    "# 4\n",
    "##########################"
   ]
  },
  {
   "cell_type": "markdown",
   "metadata": {},
   "source": [
    "# Rating prediction"
   ]
  },
  {
   "cell_type": "code",
   "execution_count": 126,
   "metadata": {},
   "outputs": [
    {
     "data": {
      "text/plain": [
       "['Clothing, Shoes & Jewelry',\n",
       " 'Novelty, Costumes & More',\n",
       " 'Novelty',\n",
       " 'Clothing',\n",
       " 'Women',\n",
       " 'Leggings']"
      ]
     },
     "execution_count": 126,
     "metadata": {},
     "output_type": "execute_result"
    }
   ],
   "source": [
    "data[0]['categories'][1]"
   ]
  },
  {
   "cell_type": "code",
   "execution_count": 131,
   "metadata": {},
   "outputs": [
    {
     "data": {
      "text/plain": [
       "[['Clothing, Shoes & Jewelry', 'Women'],\n",
       " ['Clothing, Shoes & Jewelry',\n",
       "  'Novelty, Costumes & More',\n",
       "  'Novelty',\n",
       "  'Clothing',\n",
       "  'Women',\n",
       "  'Leggings'],\n",
       " ['Clothing, Shoes & Jewelry',\n",
       "  'Women',\n",
       "  'Clothing',\n",
       "  'Lingerie, Sleep & Lounge',\n",
       "  'Intimates',\n",
       "  'Bras',\n",
       "  'Everyday Bras'],\n",
       " ['Clothing, Shoes & Jewelry',\n",
       "  'Women',\n",
       "  'Petite',\n",
       "  'Intimates',\n",
       "  'Bras',\n",
       "  'Everyday Bras']]"
      ]
     },
     "execution_count": 131,
     "metadata": {},
     "output_type": "execute_result"
    }
   ],
   "source": [
    "data[0]['categories'] + data[1]['categories']"
   ]
  },
  {
   "cell_type": "code",
   "execution_count": null,
   "metadata": {},
   "outputs": [],
   "source": []
  }
 ],
 "metadata": {
  "kernelspec": {
   "display_name": "Python 3",
   "language": "python",
   "name": "python3"
  },
  "language_info": {
   "codemirror_mode": {
    "name": "ipython",
    "version": 3
   },
   "file_extension": ".py",
   "mimetype": "text/x-python",
   "name": "python",
   "nbconvert_exporter": "python",
   "pygments_lexer": "ipython3",
   "version": "3.5.2"
  }
 },
 "nbformat": 4,
 "nbformat_minor": 2
}
